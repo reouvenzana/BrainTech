{
 "cells": [
  {
   "cell_type": "markdown",
   "metadata": {},
   "source": [
    "## Topic Modeling"
   ]
  },
  {
   "cell_type": "code",
   "execution_count": 25,
   "metadata": {},
   "outputs": [],
   "source": [
    "from bertopic import BERTopic\n",
    "from bertopic.representation import KeyBERTInspired\n",
    "from bertopic.vectorizers import ClassTfidfTransformer\n",
    "from sentence_transformers import SentenceTransformer\n",
    "from hdbscan import HDBSCAN\n",
    "from sklearn.feature_extraction.text import CountVectorizer\n",
    "import openai\n",
    "from bertopic.representation import OpenAI\n",
    "import tiktoken\n",
    "import polars.selectors as cs\n",
    "import polars as pl\n"
   ]
  },
  {
   "cell_type": "code",
   "execution_count": 26,
   "metadata": {},
   "outputs": [],
   "source": [
    "def extract_list_of_company_news(df, company):\n",
    "    return (\n",
    "        df\n",
    "        .filter(\n",
    "            pl.col(\"companies\").list.contains(company)\n",
    "        )\n",
    "        .select(\n",
    "            pl.col(\"text\")\n",
    "        )\n",
    "        .to_series()\n",
    "        .to_list()\n",
    "    )"
   ]
  },
  {
   "cell_type": "code",
   "execution_count": 27,
   "metadata": {},
   "outputs": [],
   "source": [
    "import os\n",
    "\n",
    "def extract_topics(documents):\n",
    "\n",
    "    client = openai.OpenAI(api_key=os.getenv(\"OPENAI_API_KEY\"))\n",
    "    prompt = \"\"\"\n",
    "    I have a topic that contains the following documents: \n",
    "    [DOCUMENTS]\n",
    "    The topic is described by the following keywords: [KEYWORDS]\n",
    "\n",
    "    Based on the information above, extract a short topic label in the following format:\n",
    "    topic: <topic label>\n",
    "    \"\"\"\n",
    "\n",
    "    # Tokenizer\n",
    "    tokenizer= tiktoken.encoding_for_model(\"gpt-3.5-turbo\")\n",
    "\n",
    "    # Fine-tune your topic representations\n",
    "    main_representation = KeyBERTInspired() #main_representation = KeyBERTInspired()\n",
    "    aspect_model1 = OpenAI(client, model=\"gpt-3.5-turbo\", delay_in_seconds=10, chat=True, prompt=prompt, diversity=0.1, doc_length=100, tokenizer=tokenizer)\n",
    "    embedding_model = SentenceTransformer(\"all-MiniLM-L6-v2\")\n",
    "    hdbscan_model = HDBSCAN(min_cluster_size=3, metric='euclidean', cluster_selection_method='eom', prediction_data=True)\n",
    "    vectorizer_model = CountVectorizer(stop_words=\"english\", ngram_range=(1, 2))\n",
    "\n",
    "    #Add all models together to be run in a single `fit`\n",
    "    representation_model = {\n",
    "    \"Main\": main_representation,\n",
    "    \"Aspect1\":  aspect_model1\n",
    "    }\n",
    "\n",
    "    topic_model = BERTopic(\n",
    "        embedding_model=embedding_model,\n",
    "        representation_model=representation_model,\n",
    "        hdbscan_model=hdbscan_model,\n",
    "        vectorizer_model=vectorizer_model,\n",
    "        nr_topics=20\n",
    "        )\n",
    "\n",
    "    try:\n",
    "        topics, probs = topic_model.fit_transform(documents)\n",
    "        topic_distr, _ = topic_model.approximate_distribution(documents)\n",
    "    except Exception as e:\n",
    "        return None, None\n",
    "\n",
    "\n",
    "    topic_labels = topic_model.generate_topic_labels(topic_prefix=False,\n",
    "                                                  aspect=\"Aspect1\")\n",
    "    topic_model.set_topic_labels(topic_labels)\n",
    "\n",
    "    return topic_model, topic_distr\n",
    " "
   ]
  },
  {
   "cell_type": "code",
   "execution_count": 28,
   "metadata": {},
   "outputs": [],
   "source": [
    "def df_with_topics(df, company, topic_model, topic_distr):\n",
    "    return (\n",
    "        df\n",
    "        .filter(\n",
    "            pl.col(\"companies\").list.contains(company)\n",
    "        )\n",
    "        .with_row_index(name=\"index\", offset=0)\n",
    "        .with_columns(\n",
    "            companies = pl.lit(company)\n",
    "        )\n",
    "        .join(\n",
    "            (\n",
    "            pl.DataFrame(topic_distr)\n",
    "            .with_row_index(name=\"index\", offset=0)\n",
    "            .melt(\n",
    "                id_vars=\"index\",\n",
    "                value_vars= cs.starts_with(\"column\")\n",
    "                ) \n",
    "            .sort(\"index\")\n",
    "            .filter(\n",
    "                pl.col(\"value\")>.20\n",
    "            )\n",
    "            .with_columns(\n",
    "                topics  = pl.col(\"variable\").str.extract(r\"(\\d)\").cast(pl.Int64)\n",
    "            )\n",
    "            .drop(\"variable\")\n",
    "            ),\n",
    "            on=\"index\",\n",
    "            how=\"left\",\n",
    "            validate='1:m',\n",
    "            coalesce=True\n",
    "        )\n",
    "        .join(\n",
    "            (\n",
    "                pl.DataFrame(topic_model.get_topic_info())\n",
    "                .select(\n",
    "                    pl.col([\"Topic\", \"Count\", \"Representation\", \"CustomName\"]) \n",
    "                )\n",
    "                .select(\n",
    "                    pl.all().name.prefix(\"topics_\")\n",
    "                )\n",
    "            ),\n",
    "        how=\"left\",\n",
    "        left_on = \"topics\",\n",
    "        right_on = \"topics_Topic\",\n",
    "        coalesce=True\n",
    "        )\n",
    "        .group_by(\n",
    "            [\"index\",\"title\",\"link\", \"text\", \"date_published\", \"companies\"],\n",
    "            maintain_order=True\n",
    "        )\n",
    "        .all()\n",
    "        .drop(\"index\")\n",
    "        .rename(lambda column_name : column_name.lower())\n",
    "        .rename({\"value\":\"topic_probability_distribution\", \"topics_customname\": \"topics_custom_name\"})\n",
    "    )"
   ]
  },
  {
   "cell_type": "code",
   "execution_count": 29,
   "metadata": {},
   "outputs": [],
   "source": [
    "def save_model(topic_model, company):\n",
    "    embedding_model = \"sentence-transformers/all-MiniLM-L6-v2\"\n",
    "    path = \"./Models/BERTopic_Models/\" + company\n",
    "    topic_model.save(path, serialization=\"safetensors\", save_ctfidf=True, save_embedding_model=embedding_model)"
   ]
  },
  {
   "cell_type": "code",
   "execution_count": 30,
   "metadata": {},
   "outputs": [],
   "source": [
    "path = \"./Data/News/news_cleaned.parquet\"\n",
    "# Companies we're interested in\n",
    "companies = [\"Berkshire Hathaway\",\"JPMorgan\",\"Bank of America\",\n",
    "             \"Wells Fargo\",\"CVS Health\",\"UnitedHealth\",\"McKesson\",\n",
    "             \"AmerisourceBergen\",\"Walmart\",\"Costco\",\n",
    "             \"Kroger\",\"Home Depot\",\"General Motors\",\n",
    "             \"Boeing\",\"Caterpillar\",\"Ford\"]\n",
    "\n",
    "df_news = pl.read_parquet(path)\n"
   ]
  },
  {
   "cell_type": "code",
   "execution_count": 31,
   "metadata": {},
   "outputs": [
    {
     "name": "stdout",
     "output_type": "stream",
     "text": [
      "Berkshire Hathaway\n",
      "JPMorgan\n",
      "Bank of America\n",
      "Wells Fargo\n",
      "CVS Health\n",
      "UnitedHealth\n",
      "McKesson\n",
      "Error while processing McKesson. The number of news may be too small (9).\n",
      "AmerisourceBergen\n"
     ]
    },
    {
     "name": "stderr",
     "output_type": "stream",
     "text": [
      "/home/reouvz/braintech/lib/python3.10/site-packages/umap/spectral.py:521: RuntimeWarning: k >= N for N * N square matrix. Attempting to use scipy.linalg.eigh instead.\n",
      "  eigenvalues, eigenvectors = scipy.sparse.linalg.eigsh(\n",
      "/home/reouvz/braintech/lib/python3.10/site-packages/umap/spectral.py:521: RuntimeWarning: k >= N for N * N square matrix. Attempting to use scipy.linalg.eigh instead.\n",
      "  eigenvalues, eigenvectors = scipy.sparse.linalg.eigsh(\n"
     ]
    },
    {
     "name": "stdout",
     "output_type": "stream",
     "text": [
      "Error while processing AmerisourceBergen. The number of news may be too small (4).\n",
      "Walmart\n",
      "Costco\n",
      "Kroger\n"
     ]
    },
    {
     "name": "stderr",
     "output_type": "stream",
     "text": [
      "/home/reouvz/braintech/lib/python3.10/site-packages/umap/spectral.py:521: RuntimeWarning: k >= N for N * N square matrix. Attempting to use scipy.linalg.eigh instead.\n",
      "  eigenvalues, eigenvectors = scipy.sparse.linalg.eigsh(\n",
      "/home/reouvz/braintech/lib/python3.10/site-packages/umap/spectral.py:521: RuntimeWarning: k >= N for N * N square matrix. Attempting to use scipy.linalg.eigh instead.\n",
      "  eigenvalues, eigenvectors = scipy.sparse.linalg.eigsh(\n"
     ]
    },
    {
     "name": "stdout",
     "output_type": "stream",
     "text": [
      "Error while processing Kroger. The number of news may be too small (6).\n",
      "Home Depot\n",
      "General Motors\n",
      "Boeing\n",
      "Caterpillar\n",
      "Ford\n"
     ]
    }
   ],
   "source": [
    "schema = {\n",
    "        'title':pl.Utf8,\n",
    "        'link': pl.Utf8,\n",
    "        'text': pl.Utf8,\n",
    "        'date_published': pl.Date,\n",
    "        'companies': pl.Utf8,\n",
    "        'topic_probability_distribution': pl.List(pl.Float64),\n",
    "        'topics': pl.List(pl.Int64),\n",
    "        'topics_count': pl.List(pl.Int64),\n",
    "        'topics_representation': pl.List(pl.List(pl.Utf8)),\n",
    "        'topics_custom_name': pl.List(pl.Utf8)\n",
    "    }\n",
    "global_df_with_topics = pl.DataFrame(schema=schema)\n",
    "\n",
    "for company in companies:\n",
    "    news = extract_list_of_company_news(df_news, company)\n",
    "    print(company)\n",
    "    topic_model, topic_distr = extract_topics(news)\n",
    "    if topic_model is None:\n",
    "        print(f\"Error while processing {company}. The number of news may be too small ({len(news)}).\")\n",
    "        continue\n",
    "    partial_df_with_topics = df_with_topics(df_news, company, topic_model, topic_distr)\n",
    "    global_df_with_topics = pl.concat(\n",
    "        [global_df_with_topics, partial_df_with_topics],\n",
    "        how=\"vertical\"\n",
    "    )\n",
    "    save_model(topic_model,company)"
   ]
  },
  {
   "cell_type": "code",
   "execution_count": 32,
   "metadata": {},
   "outputs": [],
   "source": [
    "global_df_with_topics.write_parquet(\"./Data/News/news_with_topics.parquet\")"
   ]
  },
  {
   "cell_type": "code",
   "execution_count": null,
   "metadata": {},
   "outputs": [],
   "source": [
    "loaded_model = BERTopic.load(\"./Models/BERTopic_Models/Walmart\")"
   ]
  },
  {
   "cell_type": "code",
   "execution_count": 220,
   "metadata": {},
   "outputs": [
    {
     "data": {
      "application/vnd.plotly.v1+json": {
       "config": {
        "plotlyServerURL": "https://plot.ly"
       },
       "data": [
        {
         "marker": {
          "color": "#D55E00"
         },
         "orientation": "h",
         "type": "bar",
         "x": [
          0.5271724462509155,
          0.5656449794769287,
          0.6262797117233276,
          0.6371943950653076,
          0.6824876070022583
         ],
         "xaxis": "x",
         "y": [
          "charging standard  ",
          "american charging  ",
          "ev charging  ",
          "tesla superchargers  ",
          "tesla charging  "
         ],
         "yaxis": "y"
        },
        {
         "marker": {
          "color": "#0072B2"
         },
         "orientation": "h",
         "type": "bar",
         "x": [
          0.39078372716903687,
          0.3975052237510681,
          0.4449014961719513,
          0.4606611728668213,
          0.5869288444519043
         ],
         "xaxis": "x2",
         "y": [
          "general motors  ",
          "stand strike  ",
          "collective bargaining  ",
          "strike  ",
          "strike companies  "
         ],
         "yaxis": "y2"
        },
        {
         "marker": {
          "color": "#CC79A7"
         },
         "orientation": "h",
         "type": "bar",
         "x": [
          0.45025283098220825,
          0.4585692882537842,
          0.47479796409606934,
          0.536617636680603,
          0.6185745000839233
         ],
         "xaxis": "x3",
         "y": [
          "ion batteries  ",
          "battery materials  ",
          "electric vehicles  ",
          "battery plant  ",
          "battery manufacturing  "
         ],
         "yaxis": "y3"
        },
        {
         "marker": {
          "color": "#E69F00"
         },
         "orientation": "h",
         "type": "bar",
         "x": [
          0.43612802028656006,
          0.45695874094963074,
          0.4664475917816162,
          0.49180397391319275,
          0.5027526021003723
         ],
         "xaxis": "x4",
         "y": [
          "uber  ",
          "emissions  ",
          "automakers  ",
          "emissions standards  ",
          "electric vehicles  "
         ],
         "yaxis": "y4"
        },
        {
         "marker": {
          "color": "#56B4E9"
         },
         "orientation": "h",
         "type": "bar",
         "x": [
          0.4318510890007019,
          0.4320368766784668,
          0.4515364170074463,
          0.47099632024765015,
          0.5194739103317261
         ],
         "xaxis": "x5",
         "y": [
          "kia ev9  ",
          "automaker  ",
          "landx motors  ",
          "ev  ",
          "ev startup  "
         ],
         "yaxis": "y5"
        },
        {
         "marker": {
          "color": "#009E73"
         },
         "orientation": "h",
         "type": "bar",
         "x": [
          0.46386587619781494,
          0.49148887395858765,
          0.5442438125610352,
          0.55471271276474,
          0.5656477212905884
         ],
         "xaxis": "x6",
         "y": [
          "assistive technology  ",
          "blind visually  ",
          "visually impaired  ",
          "accessibility  ",
          "sight tech  "
         ],
         "yaxis": "y6"
        },
        {
         "marker": {
          "color": "#F0E442"
         },
         "orientation": "h",
         "type": "bar",
         "x": [
          0.4697224795818329,
          0.47744616866111755,
          0.49846702814102173,
          0.5775463581085205,
          0.5780450701713562
         ],
         "xaxis": "x7",
         "y": [
          "advanced driver  ",
          "automatic lane  ",
          "driving  ",
          "driver assistance  ",
          "self driving  "
         ],
         "yaxis": "y7"
        },
        {
         "marker": {
          "color": "#D55E00"
         },
         "orientation": "h",
         "type": "bar",
         "x": [
          0.3777727782726288,
          0.3816530704498291,
          0.3960745334625244,
          0.41842591762542725,
          0.5390397310256958
         ],
         "xaxis": "x8",
         "y": [
          "automaker  ",
          "ceo rj  ",
          "ev  ",
          "automakers  ",
          "rivian  "
         ],
         "yaxis": "y8"
        },
        {
         "marker": {
          "color": "#0072B2"
         },
         "orientation": "h",
         "type": "bar",
         "x": [
          0.420063853263855,
          0.424870103597641,
          0.46155601739883423,
          0.4697432816028595,
          0.5117288827896118
         ],
         "xaxis": "x9",
         "y": [
          "automaker  ",
          "earnings  ",
          "ford pro  ",
          "ford  ",
          "ford said  "
         ],
         "yaxis": "y9"
        },
        {
         "marker": {
          "color": "#CC79A7"
         },
         "orientation": "h",
         "type": "bar",
         "x": [
          0.4362668991088867,
          0.44194304943084717,
          0.4817938804626465,
          0.49779579043388367,
          0.5152729153633118
         ],
         "xaxis": "x10",
         "y": [
          "automated driving  ",
          "vehicles  ",
          "vehicle technology  ",
          "argo ai  ",
          "autonomous vehicle  "
         ],
         "yaxis": "y10"
        },
        {
         "marker": {
          "color": "#E69F00"
         },
         "orientation": "h",
         "type": "bar",
         "x": [
          0.33857572078704834,
          0.33949220180511475,
          0.34745097160339355,
          0.4246619939804077,
          0.4806036353111267
         ],
         "xaxis": "x11",
         "y": [
          "elon musk  ",
          "social media  ",
          "techcrunch  ",
          "snapchat ai  ",
          "twitter  "
         ],
         "yaxis": "y11"
        },
        {
         "marker": {
          "color": "#56B4E9"
         },
         "orientation": "h",
         "type": "bar",
         "x": [
          0.36893051862716675,
          0.37415724992752075,
          0.39177173376083374,
          0.4211646318435669,
          0.4360789954662323
         ],
         "xaxis": "x12",
         "y": [
          "financial  ",
          "crypto  ",
          "market  ",
          "fintech  ",
          "investors  "
         ],
         "yaxis": "y12"
        },
        {
         "marker": {
          "color": "#009E73"
         },
         "orientation": "h",
         "type": "bar",
         "x": [
          0.44631481170654297,
          0.4490893483161926,
          0.4656180143356323,
          0.4940933585166931,
          0.5632820129394531
         ],
         "xaxis": "x13",
         "y": [
          "robotaxi  ",
          "self driving  ",
          "uber  ",
          "driverless  ",
          "robotaxi service  "
         ],
         "yaxis": "y13"
        },
        {
         "marker": {
          "color": "#F0E442"
         },
         "orientation": "h",
         "type": "bar",
         "x": [
          0.3884790241718292,
          0.3900887966156006,
          0.39657217264175415,
          0.4127117693424225,
          0.4877266585826874
         ],
         "xaxis": "x14",
         "y": [
          "uber  ",
          "station  ",
          "automotive  ",
          "mobility  ",
          "transportation  "
         ],
         "yaxis": "y14"
        }
       ],
       "layout": {
        "annotations": [
         {
          "font": {
           "size": 16
          },
          "showarrow": false,
          "text": "Topic 0",
          "x": 0.0875,
          "xanchor": "center",
          "xref": "paper",
          "y": 1,
          "yanchor": "bottom",
          "yref": "paper"
         },
         {
          "font": {
           "size": 16
          },
          "showarrow": false,
          "text": "Topic 1",
          "x": 0.36250000000000004,
          "xanchor": "center",
          "xref": "paper",
          "y": 1,
          "yanchor": "bottom",
          "yref": "paper"
         },
         {
          "font": {
           "size": 16
          },
          "showarrow": false,
          "text": "Topic 2",
          "x": 0.6375000000000001,
          "xanchor": "center",
          "xref": "paper",
          "y": 1,
          "yanchor": "bottom",
          "yref": "paper"
         },
         {
          "font": {
           "size": 16
          },
          "showarrow": false,
          "text": "Topic 3",
          "x": 0.9125,
          "xanchor": "center",
          "xref": "paper",
          "y": 1,
          "yanchor": "bottom",
          "yref": "paper"
         },
         {
          "font": {
           "size": 16
          },
          "showarrow": false,
          "text": "Topic 4",
          "x": 0.0875,
          "xanchor": "center",
          "xref": "paper",
          "y": 0.7250000000000001,
          "yanchor": "bottom",
          "yref": "paper"
         },
         {
          "font": {
           "size": 16
          },
          "showarrow": false,
          "text": "Topic 5",
          "x": 0.36250000000000004,
          "xanchor": "center",
          "xref": "paper",
          "y": 0.7250000000000001,
          "yanchor": "bottom",
          "yref": "paper"
         },
         {
          "font": {
           "size": 16
          },
          "showarrow": false,
          "text": "Topic 6",
          "x": 0.6375000000000001,
          "xanchor": "center",
          "xref": "paper",
          "y": 0.7250000000000001,
          "yanchor": "bottom",
          "yref": "paper"
         },
         {
          "font": {
           "size": 16
          },
          "showarrow": false,
          "text": "Topic 7",
          "x": 0.9125,
          "xanchor": "center",
          "xref": "paper",
          "y": 0.7250000000000001,
          "yanchor": "bottom",
          "yref": "paper"
         },
         {
          "font": {
           "size": 16
          },
          "showarrow": false,
          "text": "Topic 8",
          "x": 0.0875,
          "xanchor": "center",
          "xref": "paper",
          "y": 0.45,
          "yanchor": "bottom",
          "yref": "paper"
         },
         {
          "font": {
           "size": 16
          },
          "showarrow": false,
          "text": "Topic 9",
          "x": 0.36250000000000004,
          "xanchor": "center",
          "xref": "paper",
          "y": 0.45,
          "yanchor": "bottom",
          "yref": "paper"
         },
         {
          "font": {
           "size": 16
          },
          "showarrow": false,
          "text": "Topic 10",
          "x": 0.6375000000000001,
          "xanchor": "center",
          "xref": "paper",
          "y": 0.45,
          "yanchor": "bottom",
          "yref": "paper"
         },
         {
          "font": {
           "size": 16
          },
          "showarrow": false,
          "text": "Topic 11",
          "x": 0.9125,
          "xanchor": "center",
          "xref": "paper",
          "y": 0.45,
          "yanchor": "bottom",
          "yref": "paper"
         },
         {
          "font": {
           "size": 16
          },
          "showarrow": false,
          "text": "Topic 12",
          "x": 0.0875,
          "xanchor": "center",
          "xref": "paper",
          "y": 0.175,
          "yanchor": "bottom",
          "yref": "paper"
         },
         {
          "font": {
           "size": 16
          },
          "showarrow": false,
          "text": "Topic 13",
          "x": 0.36250000000000004,
          "xanchor": "center",
          "xref": "paper",
          "y": 0.175,
          "yanchor": "bottom",
          "yref": "paper"
         }
        ],
        "height": 1000,
        "hoverlabel": {
         "bgcolor": "white",
         "font": {
          "family": "Rockwell",
          "size": 16
         }
        },
        "showlegend": false,
        "template": {
         "data": {
          "bar": [
           {
            "error_x": {
             "color": "#2a3f5f"
            },
            "error_y": {
             "color": "#2a3f5f"
            },
            "marker": {
             "line": {
              "color": "white",
              "width": 0.5
             },
             "pattern": {
              "fillmode": "overlay",
              "size": 10,
              "solidity": 0.2
             }
            },
            "type": "bar"
           }
          ],
          "barpolar": [
           {
            "marker": {
             "line": {
              "color": "white",
              "width": 0.5
             },
             "pattern": {
              "fillmode": "overlay",
              "size": 10,
              "solidity": 0.2
             }
            },
            "type": "barpolar"
           }
          ],
          "carpet": [
           {
            "aaxis": {
             "endlinecolor": "#2a3f5f",
             "gridcolor": "#C8D4E3",
             "linecolor": "#C8D4E3",
             "minorgridcolor": "#C8D4E3",
             "startlinecolor": "#2a3f5f"
            },
            "baxis": {
             "endlinecolor": "#2a3f5f",
             "gridcolor": "#C8D4E3",
             "linecolor": "#C8D4E3",
             "minorgridcolor": "#C8D4E3",
             "startlinecolor": "#2a3f5f"
            },
            "type": "carpet"
           }
          ],
          "choropleth": [
           {
            "colorbar": {
             "outlinewidth": 0,
             "ticks": ""
            },
            "type": "choropleth"
           }
          ],
          "contour": [
           {
            "colorbar": {
             "outlinewidth": 0,
             "ticks": ""
            },
            "colorscale": [
             [
              0,
              "#0d0887"
             ],
             [
              0.1111111111111111,
              "#46039f"
             ],
             [
              0.2222222222222222,
              "#7201a8"
             ],
             [
              0.3333333333333333,
              "#9c179e"
             ],
             [
              0.4444444444444444,
              "#bd3786"
             ],
             [
              0.5555555555555556,
              "#d8576b"
             ],
             [
              0.6666666666666666,
              "#ed7953"
             ],
             [
              0.7777777777777778,
              "#fb9f3a"
             ],
             [
              0.8888888888888888,
              "#fdca26"
             ],
             [
              1,
              "#f0f921"
             ]
            ],
            "type": "contour"
           }
          ],
          "contourcarpet": [
           {
            "colorbar": {
             "outlinewidth": 0,
             "ticks": ""
            },
            "type": "contourcarpet"
           }
          ],
          "heatmap": [
           {
            "colorbar": {
             "outlinewidth": 0,
             "ticks": ""
            },
            "colorscale": [
             [
              0,
              "#0d0887"
             ],
             [
              0.1111111111111111,
              "#46039f"
             ],
             [
              0.2222222222222222,
              "#7201a8"
             ],
             [
              0.3333333333333333,
              "#9c179e"
             ],
             [
              0.4444444444444444,
              "#bd3786"
             ],
             [
              0.5555555555555556,
              "#d8576b"
             ],
             [
              0.6666666666666666,
              "#ed7953"
             ],
             [
              0.7777777777777778,
              "#fb9f3a"
             ],
             [
              0.8888888888888888,
              "#fdca26"
             ],
             [
              1,
              "#f0f921"
             ]
            ],
            "type": "heatmap"
           }
          ],
          "heatmapgl": [
           {
            "colorbar": {
             "outlinewidth": 0,
             "ticks": ""
            },
            "colorscale": [
             [
              0,
              "#0d0887"
             ],
             [
              0.1111111111111111,
              "#46039f"
             ],
             [
              0.2222222222222222,
              "#7201a8"
             ],
             [
              0.3333333333333333,
              "#9c179e"
             ],
             [
              0.4444444444444444,
              "#bd3786"
             ],
             [
              0.5555555555555556,
              "#d8576b"
             ],
             [
              0.6666666666666666,
              "#ed7953"
             ],
             [
              0.7777777777777778,
              "#fb9f3a"
             ],
             [
              0.8888888888888888,
              "#fdca26"
             ],
             [
              1,
              "#f0f921"
             ]
            ],
            "type": "heatmapgl"
           }
          ],
          "histogram": [
           {
            "marker": {
             "pattern": {
              "fillmode": "overlay",
              "size": 10,
              "solidity": 0.2
             }
            },
            "type": "histogram"
           }
          ],
          "histogram2d": [
           {
            "colorbar": {
             "outlinewidth": 0,
             "ticks": ""
            },
            "colorscale": [
             [
              0,
              "#0d0887"
             ],
             [
              0.1111111111111111,
              "#46039f"
             ],
             [
              0.2222222222222222,
              "#7201a8"
             ],
             [
              0.3333333333333333,
              "#9c179e"
             ],
             [
              0.4444444444444444,
              "#bd3786"
             ],
             [
              0.5555555555555556,
              "#d8576b"
             ],
             [
              0.6666666666666666,
              "#ed7953"
             ],
             [
              0.7777777777777778,
              "#fb9f3a"
             ],
             [
              0.8888888888888888,
              "#fdca26"
             ],
             [
              1,
              "#f0f921"
             ]
            ],
            "type": "histogram2d"
           }
          ],
          "histogram2dcontour": [
           {
            "colorbar": {
             "outlinewidth": 0,
             "ticks": ""
            },
            "colorscale": [
             [
              0,
              "#0d0887"
             ],
             [
              0.1111111111111111,
              "#46039f"
             ],
             [
              0.2222222222222222,
              "#7201a8"
             ],
             [
              0.3333333333333333,
              "#9c179e"
             ],
             [
              0.4444444444444444,
              "#bd3786"
             ],
             [
              0.5555555555555556,
              "#d8576b"
             ],
             [
              0.6666666666666666,
              "#ed7953"
             ],
             [
              0.7777777777777778,
              "#fb9f3a"
             ],
             [
              0.8888888888888888,
              "#fdca26"
             ],
             [
              1,
              "#f0f921"
             ]
            ],
            "type": "histogram2dcontour"
           }
          ],
          "mesh3d": [
           {
            "colorbar": {
             "outlinewidth": 0,
             "ticks": ""
            },
            "type": "mesh3d"
           }
          ],
          "parcoords": [
           {
            "line": {
             "colorbar": {
              "outlinewidth": 0,
              "ticks": ""
             }
            },
            "type": "parcoords"
           }
          ],
          "pie": [
           {
            "automargin": true,
            "type": "pie"
           }
          ],
          "scatter": [
           {
            "fillpattern": {
             "fillmode": "overlay",
             "size": 10,
             "solidity": 0.2
            },
            "type": "scatter"
           }
          ],
          "scatter3d": [
           {
            "line": {
             "colorbar": {
              "outlinewidth": 0,
              "ticks": ""
             }
            },
            "marker": {
             "colorbar": {
              "outlinewidth": 0,
              "ticks": ""
             }
            },
            "type": "scatter3d"
           }
          ],
          "scattercarpet": [
           {
            "marker": {
             "colorbar": {
              "outlinewidth": 0,
              "ticks": ""
             }
            },
            "type": "scattercarpet"
           }
          ],
          "scattergeo": [
           {
            "marker": {
             "colorbar": {
              "outlinewidth": 0,
              "ticks": ""
             }
            },
            "type": "scattergeo"
           }
          ],
          "scattergl": [
           {
            "marker": {
             "colorbar": {
              "outlinewidth": 0,
              "ticks": ""
             }
            },
            "type": "scattergl"
           }
          ],
          "scattermapbox": [
           {
            "marker": {
             "colorbar": {
              "outlinewidth": 0,
              "ticks": ""
             }
            },
            "type": "scattermapbox"
           }
          ],
          "scatterpolar": [
           {
            "marker": {
             "colorbar": {
              "outlinewidth": 0,
              "ticks": ""
             }
            },
            "type": "scatterpolar"
           }
          ],
          "scatterpolargl": [
           {
            "marker": {
             "colorbar": {
              "outlinewidth": 0,
              "ticks": ""
             }
            },
            "type": "scatterpolargl"
           }
          ],
          "scatterternary": [
           {
            "marker": {
             "colorbar": {
              "outlinewidth": 0,
              "ticks": ""
             }
            },
            "type": "scatterternary"
           }
          ],
          "surface": [
           {
            "colorbar": {
             "outlinewidth": 0,
             "ticks": ""
            },
            "colorscale": [
             [
              0,
              "#0d0887"
             ],
             [
              0.1111111111111111,
              "#46039f"
             ],
             [
              0.2222222222222222,
              "#7201a8"
             ],
             [
              0.3333333333333333,
              "#9c179e"
             ],
             [
              0.4444444444444444,
              "#bd3786"
             ],
             [
              0.5555555555555556,
              "#d8576b"
             ],
             [
              0.6666666666666666,
              "#ed7953"
             ],
             [
              0.7777777777777778,
              "#fb9f3a"
             ],
             [
              0.8888888888888888,
              "#fdca26"
             ],
             [
              1,
              "#f0f921"
             ]
            ],
            "type": "surface"
           }
          ],
          "table": [
           {
            "cells": {
             "fill": {
              "color": "#EBF0F8"
             },
             "line": {
              "color": "white"
             }
            },
            "header": {
             "fill": {
              "color": "#C8D4E3"
             },
             "line": {
              "color": "white"
             }
            },
            "type": "table"
           }
          ]
         },
         "layout": {
          "annotationdefaults": {
           "arrowcolor": "#2a3f5f",
           "arrowhead": 0,
           "arrowwidth": 1
          },
          "autotypenumbers": "strict",
          "coloraxis": {
           "colorbar": {
            "outlinewidth": 0,
            "ticks": ""
           }
          },
          "colorscale": {
           "diverging": [
            [
             0,
             "#8e0152"
            ],
            [
             0.1,
             "#c51b7d"
            ],
            [
             0.2,
             "#de77ae"
            ],
            [
             0.3,
             "#f1b6da"
            ],
            [
             0.4,
             "#fde0ef"
            ],
            [
             0.5,
             "#f7f7f7"
            ],
            [
             0.6,
             "#e6f5d0"
            ],
            [
             0.7,
             "#b8e186"
            ],
            [
             0.8,
             "#7fbc41"
            ],
            [
             0.9,
             "#4d9221"
            ],
            [
             1,
             "#276419"
            ]
           ],
           "sequential": [
            [
             0,
             "#0d0887"
            ],
            [
             0.1111111111111111,
             "#46039f"
            ],
            [
             0.2222222222222222,
             "#7201a8"
            ],
            [
             0.3333333333333333,
             "#9c179e"
            ],
            [
             0.4444444444444444,
             "#bd3786"
            ],
            [
             0.5555555555555556,
             "#d8576b"
            ],
            [
             0.6666666666666666,
             "#ed7953"
            ],
            [
             0.7777777777777778,
             "#fb9f3a"
            ],
            [
             0.8888888888888888,
             "#fdca26"
            ],
            [
             1,
             "#f0f921"
            ]
           ],
           "sequentialminus": [
            [
             0,
             "#0d0887"
            ],
            [
             0.1111111111111111,
             "#46039f"
            ],
            [
             0.2222222222222222,
             "#7201a8"
            ],
            [
             0.3333333333333333,
             "#9c179e"
            ],
            [
             0.4444444444444444,
             "#bd3786"
            ],
            [
             0.5555555555555556,
             "#d8576b"
            ],
            [
             0.6666666666666666,
             "#ed7953"
            ],
            [
             0.7777777777777778,
             "#fb9f3a"
            ],
            [
             0.8888888888888888,
             "#fdca26"
            ],
            [
             1,
             "#f0f921"
            ]
           ]
          },
          "colorway": [
           "#636efa",
           "#EF553B",
           "#00cc96",
           "#ab63fa",
           "#FFA15A",
           "#19d3f3",
           "#FF6692",
           "#B6E880",
           "#FF97FF",
           "#FECB52"
          ],
          "font": {
           "color": "#2a3f5f"
          },
          "geo": {
           "bgcolor": "white",
           "lakecolor": "white",
           "landcolor": "white",
           "showlakes": true,
           "showland": true,
           "subunitcolor": "#C8D4E3"
          },
          "hoverlabel": {
           "align": "left"
          },
          "hovermode": "closest",
          "mapbox": {
           "style": "light"
          },
          "paper_bgcolor": "white",
          "plot_bgcolor": "white",
          "polar": {
           "angularaxis": {
            "gridcolor": "#EBF0F8",
            "linecolor": "#EBF0F8",
            "ticks": ""
           },
           "bgcolor": "white",
           "radialaxis": {
            "gridcolor": "#EBF0F8",
            "linecolor": "#EBF0F8",
            "ticks": ""
           }
          },
          "scene": {
           "xaxis": {
            "backgroundcolor": "white",
            "gridcolor": "#DFE8F3",
            "gridwidth": 2,
            "linecolor": "#EBF0F8",
            "showbackground": true,
            "ticks": "",
            "zerolinecolor": "#EBF0F8"
           },
           "yaxis": {
            "backgroundcolor": "white",
            "gridcolor": "#DFE8F3",
            "gridwidth": 2,
            "linecolor": "#EBF0F8",
            "showbackground": true,
            "ticks": "",
            "zerolinecolor": "#EBF0F8"
           },
           "zaxis": {
            "backgroundcolor": "white",
            "gridcolor": "#DFE8F3",
            "gridwidth": 2,
            "linecolor": "#EBF0F8",
            "showbackground": true,
            "ticks": "",
            "zerolinecolor": "#EBF0F8"
           }
          },
          "shapedefaults": {
           "line": {
            "color": "#2a3f5f"
           }
          },
          "ternary": {
           "aaxis": {
            "gridcolor": "#DFE8F3",
            "linecolor": "#A2B1C6",
            "ticks": ""
           },
           "baxis": {
            "gridcolor": "#DFE8F3",
            "linecolor": "#A2B1C6",
            "ticks": ""
           },
           "bgcolor": "white",
           "caxis": {
            "gridcolor": "#DFE8F3",
            "linecolor": "#A2B1C6",
            "ticks": ""
           }
          },
          "title": {
           "x": 0.05
          },
          "xaxis": {
           "automargin": true,
           "gridcolor": "#EBF0F8",
           "linecolor": "#EBF0F8",
           "ticks": "",
           "title": {
            "standoff": 15
           },
           "zerolinecolor": "#EBF0F8",
           "zerolinewidth": 2
          },
          "yaxis": {
           "automargin": true,
           "gridcolor": "#EBF0F8",
           "linecolor": "#EBF0F8",
           "ticks": "",
           "title": {
            "standoff": 15
           },
           "zerolinecolor": "#EBF0F8",
           "zerolinewidth": 2
          }
         }
        },
        "title": {
         "font": {
          "color": "Black",
          "size": 22
         },
         "text": "Topic Word Scores",
         "x": 0.5,
         "xanchor": "center",
         "yanchor": "top"
        },
        "width": 1000,
        "xaxis": {
         "anchor": "y",
         "domain": [
          0,
          0.175
         ],
         "showgrid": true
        },
        "xaxis10": {
         "anchor": "y10",
         "domain": [
          0.275,
          0.45
         ],
         "showgrid": true
        },
        "xaxis11": {
         "anchor": "y11",
         "domain": [
          0.55,
          0.7250000000000001
         ],
         "showgrid": true
        },
        "xaxis12": {
         "anchor": "y12",
         "domain": [
          0.825,
          1
         ],
         "showgrid": true
        },
        "xaxis13": {
         "anchor": "y13",
         "domain": [
          0,
          0.175
         ],
         "showgrid": true
        },
        "xaxis14": {
         "anchor": "y14",
         "domain": [
          0.275,
          0.45
         ],
         "showgrid": true
        },
        "xaxis15": {
         "anchor": "y15",
         "domain": [
          0.55,
          0.7250000000000001
         ],
         "showgrid": true
        },
        "xaxis16": {
         "anchor": "y16",
         "domain": [
          0.825,
          1
         ],
         "showgrid": true
        },
        "xaxis2": {
         "anchor": "y2",
         "domain": [
          0.275,
          0.45
         ],
         "showgrid": true
        },
        "xaxis3": {
         "anchor": "y3",
         "domain": [
          0.55,
          0.7250000000000001
         ],
         "showgrid": true
        },
        "xaxis4": {
         "anchor": "y4",
         "domain": [
          0.825,
          1
         ],
         "showgrid": true
        },
        "xaxis5": {
         "anchor": "y5",
         "domain": [
          0,
          0.175
         ],
         "showgrid": true
        },
        "xaxis6": {
         "anchor": "y6",
         "domain": [
          0.275,
          0.45
         ],
         "showgrid": true
        },
        "xaxis7": {
         "anchor": "y7",
         "domain": [
          0.55,
          0.7250000000000001
         ],
         "showgrid": true
        },
        "xaxis8": {
         "anchor": "y8",
         "domain": [
          0.825,
          1
         ],
         "showgrid": true
        },
        "xaxis9": {
         "anchor": "y9",
         "domain": [
          0,
          0.175
         ],
         "showgrid": true
        },
        "yaxis": {
         "anchor": "x",
         "domain": [
          0.825,
          1
         ],
         "showgrid": true
        },
        "yaxis10": {
         "anchor": "x10",
         "domain": [
          0.275,
          0.45
         ],
         "showgrid": true
        },
        "yaxis11": {
         "anchor": "x11",
         "domain": [
          0.275,
          0.45
         ],
         "showgrid": true
        },
        "yaxis12": {
         "anchor": "x12",
         "domain": [
          0.275,
          0.45
         ],
         "showgrid": true
        },
        "yaxis13": {
         "anchor": "x13",
         "domain": [
          0,
          0.175
         ],
         "showgrid": true
        },
        "yaxis14": {
         "anchor": "x14",
         "domain": [
          0,
          0.175
         ],
         "showgrid": true
        },
        "yaxis15": {
         "anchor": "x15",
         "domain": [
          0,
          0.175
         ],
         "showgrid": true
        },
        "yaxis16": {
         "anchor": "x16",
         "domain": [
          0,
          0.175
         ],
         "showgrid": true
        },
        "yaxis2": {
         "anchor": "x2",
         "domain": [
          0.825,
          1
         ],
         "showgrid": true
        },
        "yaxis3": {
         "anchor": "x3",
         "domain": [
          0.825,
          1
         ],
         "showgrid": true
        },
        "yaxis4": {
         "anchor": "x4",
         "domain": [
          0.825,
          1
         ],
         "showgrid": true
        },
        "yaxis5": {
         "anchor": "x5",
         "domain": [
          0.55,
          0.7250000000000001
         ],
         "showgrid": true
        },
        "yaxis6": {
         "anchor": "x6",
         "domain": [
          0.55,
          0.7250000000000001
         ],
         "showgrid": true
        },
        "yaxis7": {
         "anchor": "x7",
         "domain": [
          0.55,
          0.7250000000000001
         ],
         "showgrid": true
        },
        "yaxis8": {
         "anchor": "x8",
         "domain": [
          0.55,
          0.7250000000000001
         ],
         "showgrid": true
        },
        "yaxis9": {
         "anchor": "x9",
         "domain": [
          0.275,
          0.45
         ],
         "showgrid": true
        }
       }
      },
      "text/html": [
       "<div>                            <div id=\"33d5315a-1d5a-44ad-a8de-688e766c6e49\" class=\"plotly-graph-div\" style=\"height:1000px; width:1000px;\"></div>            <script type=\"text/javascript\">                require([\"plotly\"], function(Plotly) {                    window.PLOTLYENV=window.PLOTLYENV || {};                                    if (document.getElementById(\"33d5315a-1d5a-44ad-a8de-688e766c6e49\")) {                    Plotly.newPlot(                        \"33d5315a-1d5a-44ad-a8de-688e766c6e49\",                        [{\"marker\":{\"color\":\"#D55E00\"},\"orientation\":\"h\",\"x\":[0.5271724462509155,0.5656449794769287,0.6262797117233276,0.6371943950653076,0.6824876070022583],\"y\":[\"charging standard  \",\"american charging  \",\"ev charging  \",\"tesla superchargers  \",\"tesla charging  \"],\"type\":\"bar\",\"xaxis\":\"x\",\"yaxis\":\"y\"},{\"marker\":{\"color\":\"#0072B2\"},\"orientation\":\"h\",\"x\":[0.39078372716903687,0.3975052237510681,0.4449014961719513,0.4606611728668213,0.5869288444519043],\"y\":[\"general motors  \",\"stand strike  \",\"collective bargaining  \",\"strike  \",\"strike companies  \"],\"type\":\"bar\",\"xaxis\":\"x2\",\"yaxis\":\"y2\"},{\"marker\":{\"color\":\"#CC79A7\"},\"orientation\":\"h\",\"x\":[0.45025283098220825,0.4585692882537842,0.47479796409606934,0.536617636680603,0.6185745000839233],\"y\":[\"ion batteries  \",\"battery materials  \",\"electric vehicles  \",\"battery plant  \",\"battery manufacturing  \"],\"type\":\"bar\",\"xaxis\":\"x3\",\"yaxis\":\"y3\"},{\"marker\":{\"color\":\"#E69F00\"},\"orientation\":\"h\",\"x\":[0.43612802028656006,0.45695874094963074,0.4664475917816162,0.49180397391319275,0.5027526021003723],\"y\":[\"uber  \",\"emissions  \",\"automakers  \",\"emissions standards  \",\"electric vehicles  \"],\"type\":\"bar\",\"xaxis\":\"x4\",\"yaxis\":\"y4\"},{\"marker\":{\"color\":\"#56B4E9\"},\"orientation\":\"h\",\"x\":[0.4318510890007019,0.4320368766784668,0.4515364170074463,0.47099632024765015,0.5194739103317261],\"y\":[\"kia ev9  \",\"automaker  \",\"landx motors  \",\"ev  \",\"ev startup  \"],\"type\":\"bar\",\"xaxis\":\"x5\",\"yaxis\":\"y5\"},{\"marker\":{\"color\":\"#009E73\"},\"orientation\":\"h\",\"x\":[0.46386587619781494,0.49148887395858765,0.5442438125610352,0.55471271276474,0.5656477212905884],\"y\":[\"assistive technology  \",\"blind visually  \",\"visually impaired  \",\"accessibility  \",\"sight tech  \"],\"type\":\"bar\",\"xaxis\":\"x6\",\"yaxis\":\"y6\"},{\"marker\":{\"color\":\"#F0E442\"},\"orientation\":\"h\",\"x\":[0.4697224795818329,0.47744616866111755,0.49846702814102173,0.5775463581085205,0.5780450701713562],\"y\":[\"advanced driver  \",\"automatic lane  \",\"driving  \",\"driver assistance  \",\"self driving  \"],\"type\":\"bar\",\"xaxis\":\"x7\",\"yaxis\":\"y7\"},{\"marker\":{\"color\":\"#D55E00\"},\"orientation\":\"h\",\"x\":[0.3777727782726288,0.3816530704498291,0.3960745334625244,0.41842591762542725,0.5390397310256958],\"y\":[\"automaker  \",\"ceo rj  \",\"ev  \",\"automakers  \",\"rivian  \"],\"type\":\"bar\",\"xaxis\":\"x8\",\"yaxis\":\"y8\"},{\"marker\":{\"color\":\"#0072B2\"},\"orientation\":\"h\",\"x\":[0.420063853263855,0.424870103597641,0.46155601739883423,0.4697432816028595,0.5117288827896118],\"y\":[\"automaker  \",\"earnings  \",\"ford pro  \",\"ford  \",\"ford said  \"],\"type\":\"bar\",\"xaxis\":\"x9\",\"yaxis\":\"y9\"},{\"marker\":{\"color\":\"#CC79A7\"},\"orientation\":\"h\",\"x\":[0.4362668991088867,0.44194304943084717,0.4817938804626465,0.49779579043388367,0.5152729153633118],\"y\":[\"automated driving  \",\"vehicles  \",\"vehicle technology  \",\"argo ai  \",\"autonomous vehicle  \"],\"type\":\"bar\",\"xaxis\":\"x10\",\"yaxis\":\"y10\"},{\"marker\":{\"color\":\"#E69F00\"},\"orientation\":\"h\",\"x\":[0.33857572078704834,0.33949220180511475,0.34745097160339355,0.4246619939804077,0.4806036353111267],\"y\":[\"elon musk  \",\"social media  \",\"techcrunch  \",\"snapchat ai  \",\"twitter  \"],\"type\":\"bar\",\"xaxis\":\"x11\",\"yaxis\":\"y11\"},{\"marker\":{\"color\":\"#56B4E9\"},\"orientation\":\"h\",\"x\":[0.36893051862716675,0.37415724992752075,0.39177173376083374,0.4211646318435669,0.4360789954662323],\"y\":[\"financial  \",\"crypto  \",\"market  \",\"fintech  \",\"investors  \"],\"type\":\"bar\",\"xaxis\":\"x12\",\"yaxis\":\"y12\"},{\"marker\":{\"color\":\"#009E73\"},\"orientation\":\"h\",\"x\":[0.44631481170654297,0.4490893483161926,0.4656180143356323,0.4940933585166931,0.5632820129394531],\"y\":[\"robotaxi  \",\"self driving  \",\"uber  \",\"driverless  \",\"robotaxi service  \"],\"type\":\"bar\",\"xaxis\":\"x13\",\"yaxis\":\"y13\"},{\"marker\":{\"color\":\"#F0E442\"},\"orientation\":\"h\",\"x\":[0.3884790241718292,0.3900887966156006,0.39657217264175415,0.4127117693424225,0.4877266585826874],\"y\":[\"uber  \",\"station  \",\"automotive  \",\"mobility  \",\"transportation  \"],\"type\":\"bar\",\"xaxis\":\"x14\",\"yaxis\":\"y14\"}],                        {\"template\":{\"data\":{\"barpolar\":[{\"marker\":{\"line\":{\"color\":\"white\",\"width\":0.5},\"pattern\":{\"fillmode\":\"overlay\",\"size\":10,\"solidity\":0.2}},\"type\":\"barpolar\"}],\"bar\":[{\"error_x\":{\"color\":\"#2a3f5f\"},\"error_y\":{\"color\":\"#2a3f5f\"},\"marker\":{\"line\":{\"color\":\"white\",\"width\":0.5},\"pattern\":{\"fillmode\":\"overlay\",\"size\":10,\"solidity\":0.2}},\"type\":\"bar\"}],\"carpet\":[{\"aaxis\":{\"endlinecolor\":\"#2a3f5f\",\"gridcolor\":\"#C8D4E3\",\"linecolor\":\"#C8D4E3\",\"minorgridcolor\":\"#C8D4E3\",\"startlinecolor\":\"#2a3f5f\"},\"baxis\":{\"endlinecolor\":\"#2a3f5f\",\"gridcolor\":\"#C8D4E3\",\"linecolor\":\"#C8D4E3\",\"minorgridcolor\":\"#C8D4E3\",\"startlinecolor\":\"#2a3f5f\"},\"type\":\"carpet\"}],\"choropleth\":[{\"colorbar\":{\"outlinewidth\":0,\"ticks\":\"\"},\"type\":\"choropleth\"}],\"contourcarpet\":[{\"colorbar\":{\"outlinewidth\":0,\"ticks\":\"\"},\"type\":\"contourcarpet\"}],\"contour\":[{\"colorbar\":{\"outlinewidth\":0,\"ticks\":\"\"},\"colorscale\":[[0.0,\"#0d0887\"],[0.1111111111111111,\"#46039f\"],[0.2222222222222222,\"#7201a8\"],[0.3333333333333333,\"#9c179e\"],[0.4444444444444444,\"#bd3786\"],[0.5555555555555556,\"#d8576b\"],[0.6666666666666666,\"#ed7953\"],[0.7777777777777778,\"#fb9f3a\"],[0.8888888888888888,\"#fdca26\"],[1.0,\"#f0f921\"]],\"type\":\"contour\"}],\"heatmapgl\":[{\"colorbar\":{\"outlinewidth\":0,\"ticks\":\"\"},\"colorscale\":[[0.0,\"#0d0887\"],[0.1111111111111111,\"#46039f\"],[0.2222222222222222,\"#7201a8\"],[0.3333333333333333,\"#9c179e\"],[0.4444444444444444,\"#bd3786\"],[0.5555555555555556,\"#d8576b\"],[0.6666666666666666,\"#ed7953\"],[0.7777777777777778,\"#fb9f3a\"],[0.8888888888888888,\"#fdca26\"],[1.0,\"#f0f921\"]],\"type\":\"heatmapgl\"}],\"heatmap\":[{\"colorbar\":{\"outlinewidth\":0,\"ticks\":\"\"},\"colorscale\":[[0.0,\"#0d0887\"],[0.1111111111111111,\"#46039f\"],[0.2222222222222222,\"#7201a8\"],[0.3333333333333333,\"#9c179e\"],[0.4444444444444444,\"#bd3786\"],[0.5555555555555556,\"#d8576b\"],[0.6666666666666666,\"#ed7953\"],[0.7777777777777778,\"#fb9f3a\"],[0.8888888888888888,\"#fdca26\"],[1.0,\"#f0f921\"]],\"type\":\"heatmap\"}],\"histogram2dcontour\":[{\"colorbar\":{\"outlinewidth\":0,\"ticks\":\"\"},\"colorscale\":[[0.0,\"#0d0887\"],[0.1111111111111111,\"#46039f\"],[0.2222222222222222,\"#7201a8\"],[0.3333333333333333,\"#9c179e\"],[0.4444444444444444,\"#bd3786\"],[0.5555555555555556,\"#d8576b\"],[0.6666666666666666,\"#ed7953\"],[0.7777777777777778,\"#fb9f3a\"],[0.8888888888888888,\"#fdca26\"],[1.0,\"#f0f921\"]],\"type\":\"histogram2dcontour\"}],\"histogram2d\":[{\"colorbar\":{\"outlinewidth\":0,\"ticks\":\"\"},\"colorscale\":[[0.0,\"#0d0887\"],[0.1111111111111111,\"#46039f\"],[0.2222222222222222,\"#7201a8\"],[0.3333333333333333,\"#9c179e\"],[0.4444444444444444,\"#bd3786\"],[0.5555555555555556,\"#d8576b\"],[0.6666666666666666,\"#ed7953\"],[0.7777777777777778,\"#fb9f3a\"],[0.8888888888888888,\"#fdca26\"],[1.0,\"#f0f921\"]],\"type\":\"histogram2d\"}],\"histogram\":[{\"marker\":{\"pattern\":{\"fillmode\":\"overlay\",\"size\":10,\"solidity\":0.2}},\"type\":\"histogram\"}],\"mesh3d\":[{\"colorbar\":{\"outlinewidth\":0,\"ticks\":\"\"},\"type\":\"mesh3d\"}],\"parcoords\":[{\"line\":{\"colorbar\":{\"outlinewidth\":0,\"ticks\":\"\"}},\"type\":\"parcoords\"}],\"pie\":[{\"automargin\":true,\"type\":\"pie\"}],\"scatter3d\":[{\"line\":{\"colorbar\":{\"outlinewidth\":0,\"ticks\":\"\"}},\"marker\":{\"colorbar\":{\"outlinewidth\":0,\"ticks\":\"\"}},\"type\":\"scatter3d\"}],\"scattercarpet\":[{\"marker\":{\"colorbar\":{\"outlinewidth\":0,\"ticks\":\"\"}},\"type\":\"scattercarpet\"}],\"scattergeo\":[{\"marker\":{\"colorbar\":{\"outlinewidth\":0,\"ticks\":\"\"}},\"type\":\"scattergeo\"}],\"scattergl\":[{\"marker\":{\"colorbar\":{\"outlinewidth\":0,\"ticks\":\"\"}},\"type\":\"scattergl\"}],\"scattermapbox\":[{\"marker\":{\"colorbar\":{\"outlinewidth\":0,\"ticks\":\"\"}},\"type\":\"scattermapbox\"}],\"scatterpolargl\":[{\"marker\":{\"colorbar\":{\"outlinewidth\":0,\"ticks\":\"\"}},\"type\":\"scatterpolargl\"}],\"scatterpolar\":[{\"marker\":{\"colorbar\":{\"outlinewidth\":0,\"ticks\":\"\"}},\"type\":\"scatterpolar\"}],\"scatter\":[{\"fillpattern\":{\"fillmode\":\"overlay\",\"size\":10,\"solidity\":0.2},\"type\":\"scatter\"}],\"scatterternary\":[{\"marker\":{\"colorbar\":{\"outlinewidth\":0,\"ticks\":\"\"}},\"type\":\"scatterternary\"}],\"surface\":[{\"colorbar\":{\"outlinewidth\":0,\"ticks\":\"\"},\"colorscale\":[[0.0,\"#0d0887\"],[0.1111111111111111,\"#46039f\"],[0.2222222222222222,\"#7201a8\"],[0.3333333333333333,\"#9c179e\"],[0.4444444444444444,\"#bd3786\"],[0.5555555555555556,\"#d8576b\"],[0.6666666666666666,\"#ed7953\"],[0.7777777777777778,\"#fb9f3a\"],[0.8888888888888888,\"#fdca26\"],[1.0,\"#f0f921\"]],\"type\":\"surface\"}],\"table\":[{\"cells\":{\"fill\":{\"color\":\"#EBF0F8\"},\"line\":{\"color\":\"white\"}},\"header\":{\"fill\":{\"color\":\"#C8D4E3\"},\"line\":{\"color\":\"white\"}},\"type\":\"table\"}]},\"layout\":{\"annotationdefaults\":{\"arrowcolor\":\"#2a3f5f\",\"arrowhead\":0,\"arrowwidth\":1},\"autotypenumbers\":\"strict\",\"coloraxis\":{\"colorbar\":{\"outlinewidth\":0,\"ticks\":\"\"}},\"colorscale\":{\"diverging\":[[0,\"#8e0152\"],[0.1,\"#c51b7d\"],[0.2,\"#de77ae\"],[0.3,\"#f1b6da\"],[0.4,\"#fde0ef\"],[0.5,\"#f7f7f7\"],[0.6,\"#e6f5d0\"],[0.7,\"#b8e186\"],[0.8,\"#7fbc41\"],[0.9,\"#4d9221\"],[1,\"#276419\"]],\"sequential\":[[0.0,\"#0d0887\"],[0.1111111111111111,\"#46039f\"],[0.2222222222222222,\"#7201a8\"],[0.3333333333333333,\"#9c179e\"],[0.4444444444444444,\"#bd3786\"],[0.5555555555555556,\"#d8576b\"],[0.6666666666666666,\"#ed7953\"],[0.7777777777777778,\"#fb9f3a\"],[0.8888888888888888,\"#fdca26\"],[1.0,\"#f0f921\"]],\"sequentialminus\":[[0.0,\"#0d0887\"],[0.1111111111111111,\"#46039f\"],[0.2222222222222222,\"#7201a8\"],[0.3333333333333333,\"#9c179e\"],[0.4444444444444444,\"#bd3786\"],[0.5555555555555556,\"#d8576b\"],[0.6666666666666666,\"#ed7953\"],[0.7777777777777778,\"#fb9f3a\"],[0.8888888888888888,\"#fdca26\"],[1.0,\"#f0f921\"]]},\"colorway\":[\"#636efa\",\"#EF553B\",\"#00cc96\",\"#ab63fa\",\"#FFA15A\",\"#19d3f3\",\"#FF6692\",\"#B6E880\",\"#FF97FF\",\"#FECB52\"],\"font\":{\"color\":\"#2a3f5f\"},\"geo\":{\"bgcolor\":\"white\",\"lakecolor\":\"white\",\"landcolor\":\"white\",\"showlakes\":true,\"showland\":true,\"subunitcolor\":\"#C8D4E3\"},\"hoverlabel\":{\"align\":\"left\"},\"hovermode\":\"closest\",\"mapbox\":{\"style\":\"light\"},\"paper_bgcolor\":\"white\",\"plot_bgcolor\":\"white\",\"polar\":{\"angularaxis\":{\"gridcolor\":\"#EBF0F8\",\"linecolor\":\"#EBF0F8\",\"ticks\":\"\"},\"bgcolor\":\"white\",\"radialaxis\":{\"gridcolor\":\"#EBF0F8\",\"linecolor\":\"#EBF0F8\",\"ticks\":\"\"}},\"scene\":{\"xaxis\":{\"backgroundcolor\":\"white\",\"gridcolor\":\"#DFE8F3\",\"gridwidth\":2,\"linecolor\":\"#EBF0F8\",\"showbackground\":true,\"ticks\":\"\",\"zerolinecolor\":\"#EBF0F8\"},\"yaxis\":{\"backgroundcolor\":\"white\",\"gridcolor\":\"#DFE8F3\",\"gridwidth\":2,\"linecolor\":\"#EBF0F8\",\"showbackground\":true,\"ticks\":\"\",\"zerolinecolor\":\"#EBF0F8\"},\"zaxis\":{\"backgroundcolor\":\"white\",\"gridcolor\":\"#DFE8F3\",\"gridwidth\":2,\"linecolor\":\"#EBF0F8\",\"showbackground\":true,\"ticks\":\"\",\"zerolinecolor\":\"#EBF0F8\"}},\"shapedefaults\":{\"line\":{\"color\":\"#2a3f5f\"}},\"ternary\":{\"aaxis\":{\"gridcolor\":\"#DFE8F3\",\"linecolor\":\"#A2B1C6\",\"ticks\":\"\"},\"baxis\":{\"gridcolor\":\"#DFE8F3\",\"linecolor\":\"#A2B1C6\",\"ticks\":\"\"},\"bgcolor\":\"white\",\"caxis\":{\"gridcolor\":\"#DFE8F3\",\"linecolor\":\"#A2B1C6\",\"ticks\":\"\"}},\"title\":{\"x\":0.05},\"xaxis\":{\"automargin\":true,\"gridcolor\":\"#EBF0F8\",\"linecolor\":\"#EBF0F8\",\"ticks\":\"\",\"title\":{\"standoff\":15},\"zerolinecolor\":\"#EBF0F8\",\"zerolinewidth\":2},\"yaxis\":{\"automargin\":true,\"gridcolor\":\"#EBF0F8\",\"linecolor\":\"#EBF0F8\",\"ticks\":\"\",\"title\":{\"standoff\":15},\"zerolinecolor\":\"#EBF0F8\",\"zerolinewidth\":2}}},\"xaxis\":{\"anchor\":\"y\",\"domain\":[0.0,0.175],\"showgrid\":true},\"yaxis\":{\"anchor\":\"x\",\"domain\":[0.825,1.0],\"showgrid\":true},\"xaxis2\":{\"anchor\":\"y2\",\"domain\":[0.275,0.45],\"showgrid\":true},\"yaxis2\":{\"anchor\":\"x2\",\"domain\":[0.825,1.0],\"showgrid\":true},\"xaxis3\":{\"anchor\":\"y3\",\"domain\":[0.55,0.7250000000000001],\"showgrid\":true},\"yaxis3\":{\"anchor\":\"x3\",\"domain\":[0.825,1.0],\"showgrid\":true},\"xaxis4\":{\"anchor\":\"y4\",\"domain\":[0.825,1.0],\"showgrid\":true},\"yaxis4\":{\"anchor\":\"x4\",\"domain\":[0.825,1.0],\"showgrid\":true},\"xaxis5\":{\"anchor\":\"y5\",\"domain\":[0.0,0.175],\"showgrid\":true},\"yaxis5\":{\"anchor\":\"x5\",\"domain\":[0.55,0.7250000000000001],\"showgrid\":true},\"xaxis6\":{\"anchor\":\"y6\",\"domain\":[0.275,0.45],\"showgrid\":true},\"yaxis6\":{\"anchor\":\"x6\",\"domain\":[0.55,0.7250000000000001],\"showgrid\":true},\"xaxis7\":{\"anchor\":\"y7\",\"domain\":[0.55,0.7250000000000001],\"showgrid\":true},\"yaxis7\":{\"anchor\":\"x7\",\"domain\":[0.55,0.7250000000000001],\"showgrid\":true},\"xaxis8\":{\"anchor\":\"y8\",\"domain\":[0.825,1.0],\"showgrid\":true},\"yaxis8\":{\"anchor\":\"x8\",\"domain\":[0.55,0.7250000000000001],\"showgrid\":true},\"xaxis9\":{\"anchor\":\"y9\",\"domain\":[0.0,0.175],\"showgrid\":true},\"yaxis9\":{\"anchor\":\"x9\",\"domain\":[0.275,0.45],\"showgrid\":true},\"xaxis10\":{\"anchor\":\"y10\",\"domain\":[0.275,0.45],\"showgrid\":true},\"yaxis10\":{\"anchor\":\"x10\",\"domain\":[0.275,0.45],\"showgrid\":true},\"xaxis11\":{\"anchor\":\"y11\",\"domain\":[0.55,0.7250000000000001],\"showgrid\":true},\"yaxis11\":{\"anchor\":\"x11\",\"domain\":[0.275,0.45],\"showgrid\":true},\"xaxis12\":{\"anchor\":\"y12\",\"domain\":[0.825,1.0],\"showgrid\":true},\"yaxis12\":{\"anchor\":\"x12\",\"domain\":[0.275,0.45],\"showgrid\":true},\"xaxis13\":{\"anchor\":\"y13\",\"domain\":[0.0,0.175],\"showgrid\":true},\"yaxis13\":{\"anchor\":\"x13\",\"domain\":[0.0,0.175],\"showgrid\":true},\"xaxis14\":{\"anchor\":\"y14\",\"domain\":[0.275,0.45],\"showgrid\":true},\"yaxis14\":{\"anchor\":\"x14\",\"domain\":[0.0,0.175],\"showgrid\":true},\"xaxis15\":{\"anchor\":\"y15\",\"domain\":[0.55,0.7250000000000001],\"showgrid\":true},\"yaxis15\":{\"anchor\":\"x15\",\"domain\":[0.0,0.175],\"showgrid\":true},\"xaxis16\":{\"anchor\":\"y16\",\"domain\":[0.825,1.0],\"showgrid\":true},\"yaxis16\":{\"anchor\":\"x16\",\"domain\":[0.0,0.175],\"showgrid\":true},\"annotations\":[{\"font\":{\"size\":16},\"showarrow\":false,\"text\":\"Topic 0\",\"x\":0.0875,\"xanchor\":\"center\",\"xref\":\"paper\",\"y\":1.0,\"yanchor\":\"bottom\",\"yref\":\"paper\"},{\"font\":{\"size\":16},\"showarrow\":false,\"text\":\"Topic 1\",\"x\":0.36250000000000004,\"xanchor\":\"center\",\"xref\":\"paper\",\"y\":1.0,\"yanchor\":\"bottom\",\"yref\":\"paper\"},{\"font\":{\"size\":16},\"showarrow\":false,\"text\":\"Topic 2\",\"x\":0.6375000000000001,\"xanchor\":\"center\",\"xref\":\"paper\",\"y\":1.0,\"yanchor\":\"bottom\",\"yref\":\"paper\"},{\"font\":{\"size\":16},\"showarrow\":false,\"text\":\"Topic 3\",\"x\":0.9125,\"xanchor\":\"center\",\"xref\":\"paper\",\"y\":1.0,\"yanchor\":\"bottom\",\"yref\":\"paper\"},{\"font\":{\"size\":16},\"showarrow\":false,\"text\":\"Topic 4\",\"x\":0.0875,\"xanchor\":\"center\",\"xref\":\"paper\",\"y\":0.7250000000000001,\"yanchor\":\"bottom\",\"yref\":\"paper\"},{\"font\":{\"size\":16},\"showarrow\":false,\"text\":\"Topic 5\",\"x\":0.36250000000000004,\"xanchor\":\"center\",\"xref\":\"paper\",\"y\":0.7250000000000001,\"yanchor\":\"bottom\",\"yref\":\"paper\"},{\"font\":{\"size\":16},\"showarrow\":false,\"text\":\"Topic 6\",\"x\":0.6375000000000001,\"xanchor\":\"center\",\"xref\":\"paper\",\"y\":0.7250000000000001,\"yanchor\":\"bottom\",\"yref\":\"paper\"},{\"font\":{\"size\":16},\"showarrow\":false,\"text\":\"Topic 7\",\"x\":0.9125,\"xanchor\":\"center\",\"xref\":\"paper\",\"y\":0.7250000000000001,\"yanchor\":\"bottom\",\"yref\":\"paper\"},{\"font\":{\"size\":16},\"showarrow\":false,\"text\":\"Topic 8\",\"x\":0.0875,\"xanchor\":\"center\",\"xref\":\"paper\",\"y\":0.45,\"yanchor\":\"bottom\",\"yref\":\"paper\"},{\"font\":{\"size\":16},\"showarrow\":false,\"text\":\"Topic 9\",\"x\":0.36250000000000004,\"xanchor\":\"center\",\"xref\":\"paper\",\"y\":0.45,\"yanchor\":\"bottom\",\"yref\":\"paper\"},{\"font\":{\"size\":16},\"showarrow\":false,\"text\":\"Topic 10\",\"x\":0.6375000000000001,\"xanchor\":\"center\",\"xref\":\"paper\",\"y\":0.45,\"yanchor\":\"bottom\",\"yref\":\"paper\"},{\"font\":{\"size\":16},\"showarrow\":false,\"text\":\"Topic 11\",\"x\":0.9125,\"xanchor\":\"center\",\"xref\":\"paper\",\"y\":0.45,\"yanchor\":\"bottom\",\"yref\":\"paper\"},{\"font\":{\"size\":16},\"showarrow\":false,\"text\":\"Topic 12\",\"x\":0.0875,\"xanchor\":\"center\",\"xref\":\"paper\",\"y\":0.175,\"yanchor\":\"bottom\",\"yref\":\"paper\"},{\"font\":{\"size\":16},\"showarrow\":false,\"text\":\"Topic 13\",\"x\":0.36250000000000004,\"xanchor\":\"center\",\"xref\":\"paper\",\"y\":0.175,\"yanchor\":\"bottom\",\"yref\":\"paper\"}],\"title\":{\"font\":{\"size\":22,\"color\":\"Black\"},\"text\":\"Topic Word Scores\",\"x\":0.5,\"xanchor\":\"center\",\"yanchor\":\"top\"},\"hoverlabel\":{\"font\":{\"size\":16,\"family\":\"Rockwell\"},\"bgcolor\":\"white\"},\"showlegend\":false,\"width\":1000,\"height\":1000},                        {\"responsive\": true}                    ).then(function(){\n",
       "                            \n",
       "var gd = document.getElementById('33d5315a-1d5a-44ad-a8de-688e766c6e49');\n",
       "var x = new MutationObserver(function (mutations, observer) {{\n",
       "        var display = window.getComputedStyle(gd).display;\n",
       "        if (!display || display === 'none') {{\n",
       "            console.log([gd, 'removed!']);\n",
       "            Plotly.purge(gd);\n",
       "            observer.disconnect();\n",
       "        }}\n",
       "}});\n",
       "\n",
       "// Listen for the removal of the full notebook cells\n",
       "var notebookContainer = gd.closest('#notebook-container');\n",
       "if (notebookContainer) {{\n",
       "    x.observe(notebookContainer, {childList: true});\n",
       "}}\n",
       "\n",
       "// Listen for the clearing of the current output cell\n",
       "var outputEl = gd.closest('.output');\n",
       "if (outputEl) {{\n",
       "    x.observe(outputEl, {childList: true});\n",
       "}}\n",
       "\n",
       "                        })                };                });            </script>        </div>"
      ]
     },
     "metadata": {},
     "output_type": "display_data"
    }
   ],
   "source": [
    "topic_model.visualize_barchart(top_n_topics=50)"
   ]
  },
  {
   "cell_type": "code",
   "execution_count": 217,
   "metadata": {},
   "outputs": [],
   "source": [
    "topic_model.custom_labels_"
   ]
  },
  {
   "cell_type": "markdown",
   "metadata": {},
   "source": [
    "## NER"
   ]
  },
  {
   "cell_type": "code",
   "execution_count": null,
   "metadata": {},
   "outputs": [],
   "source": [
    "df_news = df_news.with_columns(Organizations = pl.Series(organizations))"
   ]
  },
  {
   "cell_type": "code",
   "execution_count": null,
   "metadata": {},
   "outputs": [],
   "source": [
    "# Initialize GLiNER with the base model\n",
    "model = GLiNER.from_pretrained(\"EmergentMethods/gliner_medium_news-v2.1\")\n",
    "\n",
    "# Labels for entity prediction\n",
    "labels = [\"Organization\"] # for v2.1 use capital case for better performance\n",
    "\n",
    "# Perform entity prediction\n",
    "organizations = []\n",
    "for i, news in enumerate(df_news[\"texte1\"]):\n",
    "    entities = model.predict_entities(news, labels, threshold=0.5)\n",
    "    list_entities = [entity[\"text\"] for entity in entities if entity[\"text\"] not in list_entities]\n",
    "    organizations.append(list_entities)"
   ]
  },
  {
   "cell_type": "code",
   "execution_count": 10,
   "metadata": {},
   "outputs": [
    {
     "name": "stdout",
     "output_type": "stream",
     "text": [
      "Walmart 6905553075311563409\n",
      "Walmart 6905553075311563409\n",
      "company 6905553075311563409\n",
      "Sam’s Club 6905553075311563409\n",
      "Walmart 6905553075311563409\n",
      "Walmart 6905553075311563409\n",
      "Google 6905553075311563409\n",
      "Walmart 6905553075311563409\n",
      "Walmart 6905553075311563409\n",
      "Walmart 6905553075311563409\n",
      "Walmart InHome 6905553075311563409\n",
      "Startup Battlefield 6905553075311563409\n",
      "Techcrunch 6905553075311563409\n",
      "Walmart 6905553075311563409\n",
      "Amazon 6905553075311563409\n",
      "Amazon 6905553075311563409\n",
      "Walmart 6905553075311563409\n",
      "Walmart 6905553075311563409\n",
      "Walmart 6905553075311563409\n",
      "Walmart 6905553075311563409\n",
      "Walmart Inc. 6905553075311563409\n",
      "Walmart 6905553075311563409\n",
      "Walmart 6905553075311563409\n",
      "Walmart 6905553075311563409\n",
      "Walmart 6905553075311563409\n",
      "Walmart 6905553075311563409\n",
      "My Assistant 6905553075311563409\n",
      "Walmart 6905553075311563409\n",
      "Walmart 6905553075311563409\n",
      "Walmart 6905553075311563409\n",
      "Microsoft 6905553075311563409\n",
      "Walmart 6905553075311563409\n",
      "Azure OpenAI 6905553075311563409\n",
      "Microsoft 6905553075311563409\n",
      "Walmart 6905553075311563409\n",
      "Wing 6905553075311563409\n",
      "Zipline 6905553075311563409\n",
      "Walmart 6905553075311563409\n",
      "Walmart 6905553075311563409\n",
      "Walmart 6905553075311563409\n",
      "Walmart 6905553075311563409\n",
      "Ibotta 6905553075311563409\n",
      "Ibotta 6905553075311563409\n",
      "Ibotta 6905553075311563409\n",
      "Exxon 6905553075311563409\n",
      "Shell 6905553075311563409\n",
      "Walmart 6905553075311563409\n",
      "Ibotta 6905553075311563409\n",
      "Renaissance Capital 6905553075311563409\n",
      "Ibotta 6905553075311563409\n",
      "Ibotta 6905553075311563409\n",
      "Walmart 6905553075311563409\n",
      "Walmart 6905553075311563409\n",
      "Ibotta 6905553075311563409\n",
      "Walmart 6905553075311563409\n",
      "Ibotta 6905553075311563409\n",
      "IPN 6905553075311563409\n",
      "Walmart 6905553075311563409\n",
      "CPG brands 6905553075311563409\n",
      "Startup Battlefield 200 6905553075311563409\n",
      "Techcrunch 6905553075311563409\n",
      "Ibotta 6905553075311563409\n",
      "third-party publishers 6905553075311563409\n",
      "Ibotta 6905553075311563409\n",
      "Ibotta 6905553075311563409\n",
      "venture-backed startups 6905553075311563409\n",
      "IPN 6905553075311563409\n",
      "Family Dollar 6905553075311563409\n",
      "Kroger 6905553075311563409\n",
      "Exxon 6905553075311563409\n",
      "Shell 6905553075311563409\n",
      "Ibotta 6905553075311563409\n",
      "Walmart 6905553075311563409\n",
      "Ibotta 6905553075311563409\n",
      "Walmart 6905553075311563409\n",
      "Ibotta 6905553075311563409\n",
      "Ibotta 6905553075311563409\n",
      "Astera Labs 6905553075311563409\n",
      "Reddit 6905553075311563409\n",
      "Ibotta 6905553075311563409\n",
      "Ibotta 6905553075311563409\n",
      "startup 6905553075311563409\n",
      "adtech company 6905553075311563409\n",
      "Klaviyo 6905553075311563409\n",
      "Klaviyo 6905553075311563409\n",
      "Ibotta 6905553075311563409\n",
      "GGV Capital 6905553075311563409\n",
      "Great Oak Ventures 6905553075311563409\n",
      "Teamworth Ventures 6905553075311563409\n",
      "Beyond Identity 6905553075311563409\n"
     ]
    }
   ],
   "source": [
    "import spacy\n",
    "\n",
    "custom_spacy_config = { \"gliner_model\": \"urchade/gliner_base\",\n",
    "                            \"chunk_size\": 250,\n",
    "                            \"labels\": [\"company\"],\n",
    "                            \"style\": \"ent\"}\n",
    "nlp = spacy.blank(\"en\")\n",
    "nlp.add_pipe(\"gliner_spacy\", config=custom_spacy_config)\n",
    "\n",
    "for news in df_news[:2,\"texte1\"]:\n",
    "    doc = nlp(news)\n",
    "    for ent in doc.ents:\n",
    "        print(ent.text, ent.label)\n",
    "\n",
    "#Output\n",
    "# Bill Gates person 0.9967108964920044\n",
    "# Tom person 0.9612326622009277\n",
    "# Microsoft organization 0.9966742992401123  "
   ]
  },
  {
   "cell_type": "code",
   "execution_count": 93,
   "metadata": {},
   "outputs": [],
   "source": [
    "import polars as pl\n",
    "\n",
    "# Define the regex pattern for the company names\n",
    "companies = r\"\\b(Berkshire Hathaway|JPMorgan|Bank of America|Wells Fargo|CVS Health|UnitedHealth|McKesson|AmerisourceBergen|Walmart|Costco|Kroger|Home Depot|General Motors|Boeing|Caterpillar|Ford)\\b\"\n",
    "\n",
    "# Apply the regex pattern to extract company names\n",
    "df_news = (\n",
    "    df_news\n",
    "    .with_columns(\n",
    "        Test=pl.col(\"texte1\").str.extract_all(companies).list.unique()\n",
    "    )\n",
    "    .filter(\n",
    "        pl.col(\"Test\").list.len() > 0\n",
    "    )\n",
    ")\n"
   ]
  },
  {
   "cell_type": "code",
   "execution_count": 94,
   "metadata": {},
   "outputs": [
    {
     "data": {
      "text/html": [
       "<div><style>\n",
       ".dataframe > thead > tr,\n",
       ".dataframe > tbody > tr {\n",
       "  text-align: right;\n",
       "  white-space: pre-wrap;\n",
       "}\n",
       "</style>\n",
       "<small>shape: (839, 5)</small><table border=\"1\" class=\"dataframe\"><thead><tr><th>Titre1</th><th>Lien_du_titre</th><th>texte1</th><th>Date de publication</th><th>Test</th></tr><tr><td>str</td><td>str</td><td>str</td><td>date</td><td>list[str]</td></tr></thead><tbody><tr><td>&quot;Walmart debuts generative AI search and AI replenishment features at CES&quot;</td><td>&quot;https://techcrunch.com/2024/01/09/walmart-debuts-generative-ai-search-and-ai-replenishment-features-at-ces/&quot;</td><td>&quot;In a keynote address at the Consumer Electronics Show in Las Vegas, Walmart president and CEO Doug McMillon and other Walmart execs offered a glimpse as to how the retail giant was putting new technologies, including augmented reality (AR), drones, generative AI and other artificial intelligence tech to work in order improve the shopping experience for customers.\n",
       "At the trade show, the company revealed a handful of new products, including two AI-powered tools for managing product search and repl…</td><td>2024-01-09</td><td>[&quot;Walmart&quot;]</td></tr><tr><td>&quot;Ibotta’s expansion into enterprise should set it up for a successful IPO&quot;</td><td>&quot;https://techcrunch.com/2024/03/28/ibottas-expansion-into-enterprise-should-set-it-up-for-a-successful-ipo/&quot;</td><td>&quot;Ibotta confidently submitted an S-1 filing with the SEC on March 22 with the intent to list its shares on the New York Stock Exchange. The 13-year-old cash-back startup looks to make its public debut after turning profitable and recording impressive revenue growth in 2023.\n",
       "The company reported $320 million in revenue in 2023, up 52% from 2022 when it produced $210 million in revenue. Ibotta’s gross profits grew 68% from 2022, $164.5 million, to 2023, $276 million.\n",
       "\t\n",
       "\t\n",
       "\t\t\n",
       "\t\t\t\n",
       "\n",
       "\n",
       "The Denver-based c…</td><td>2024-03-28</td><td>[&quot;Walmart&quot;, &quot;Kroger&quot;]</td></tr><tr><td>&quot;Walmart+ adds travel benefits to its list of perks&quot;</td><td>&quot;https://techcrunch.com/2023/07/26/walmart-adds-travel-benefits-list-of-perks/&quot;</td><td>&quot;Walmart+, the U.S. retailer’s Prime competitor, is adding travel benefits to its list of perks. The company has announced that members can book getaways through WalmartPlusTravel.com and get Walmart Cash. Walmart+ members will receive 5% Walmart Cash on hotels, vacation rentals, car rentals and activities bookings, 2% Walmart Cash on all flights and a blended rate of Walmart Cash on vacation packages. \n",
       "Travel booking is powered by Expedia Group’s White Label Template technology, giving members a…</td><td>2023-07-26</td><td>[&quot;Walmart&quot;]</td></tr><tr><td>&quot;Walmart returns to Roblox after its first games were attacked by consumer advocacy groups&quot;</td><td>&quot;https://techcrunch.com/2023/09/27/walmart-returns-to-roblox-after-its-first-games-were-attacked-by-consumer-advocacy-groups/&quot;</td><td>&quot;Walmart is returning to Roblox, but this time with a virtual world where gamers can discover new virtual items and accessories to personalize their experience, not browse or shop items from Walmart itself. The retailer a year ago had launched two Walmart-branded experiences on the gaming platform, but came under fire from consumer advocacy groups who wanted the games audited for stealth marketing to kids.\n",
       "Those two virtual worlds, “Walmart Land” and “Universe of Play,” let Roblox players collect…</td><td>2023-09-27</td><td>[&quot;Walmart&quot;]</td></tr><tr><td>&quot;Walmart+ Assist halves the price of its Prime competitor for those on government assistance&quot;</td><td>&quot;https://techcrunch.com/2023/07/20/walmart-assist-halves-the-price-of-its-prime-competitor-for-those-on-government-assistance/&quot;</td><td>&quot;Walmart+, the U.S. retailer’s Prime competitor, is introducing a new program designed to help those on government assistance take advantage of its membership benefits, like free shipping and delivery, gas discounts and access to streaming service Paramount+. The company announced this morning the launch of Walmart+ Assist, a way to purchase a Walmart+ membership at 50% off ($49 per year, or $6.47 per month) for those on government assistance.\n",
       "Typically, a Walmart+ membership costs $98 per year o…</td><td>2023-07-20</td><td>[&quot;Walmart&quot;]</td></tr><tr><td>&hellip;</td><td>&hellip;</td><td>&hellip;</td><td>&hellip;</td><td>&hellip;</td></tr><tr><td>&quot;The Station: EV SPACs face new regulatory speed bump, more on Rivian’s reorg and VW weighs direct sales for Scout brand&quot;</td><td>&quot;https://techcrunch.com/2022/05/30/the-station-ev-spacs-face-new-regulatory-speed-bump-more-on-rivians-reorg-and-vw-weighs-direct-sales-for-scout-brand/&quot;</td><td>&quot;Welcome back to The Station, your weekly guide to everything going on in the world of transportation.\n",
       "Many readers of this weekly newsletter are likely enjoying a three-day weekend thanks to the Memorial Day holiday. So, this week I will keep it a wee bit shorter.\n",
       "\t\n",
       "\t\n",
       "\t\t\n",
       "\t\t\t\n",
       "\n",
       "\n",
       "Before we get started, check out the latest transportation Q&amp;A, this time with Convoy co-founder and CEO Dan Lewis. He predicts digital freight will go mainstream within the year. Why? Lewis said: “The industry is going to…</td><td>2022-05-30</td><td>[&quot;Caterpillar&quot;, &quot;Walmart&quot;]</td></tr><tr><td>&quot;ClearFlame Engine Technologies takes aim at cleaning up diesel engines&quot;</td><td>&quot;https://techcrunch.com/2020/09/17/clearflame-engine-technologies-takes-aim-at-cleaning-up-diesel-engines/&quot;</td><td>&quot;Diesel engines are the workhorses of freight transportation and agriculture — and by extension keep the economy fed and well supplied. They also have a dirty side.\n",
       "The founders of ClearFlame Engine Technologies, a four-year-old startup based in Geneva, Illinois, say they have found a way to clean them up.\n",
       "\t\n",
       "\t\n",
       "\t\t\n",
       "\t\t\t\n",
       "\n",
       "\n",
       "The company, which participated in TechCrunch Disrupt’s 2020 Startup Battlefield competition, has developed a novel way to get diesel style engines to operate on renewable fuels li…</td><td>2020-09-17</td><td>[&quot;Caterpillar&quot;]</td></tr><tr><td>&quot;The Station: Rivian adds to its EV war chest, Sec. Buttigieg is coming to Disrupt, Argo preps to launch with Lyft&quot;</td><td>&quot;https://techcrunch.com/2021/07/26/the-statin-rivian-adds-to-its-ev-war-chest-sec-buttigieg-is-coming-to-disrupt-and-argo-preps-to-launch-with-lyft/&quot;</td><td>&quot;The Station is a weekly newsletter dedicated to all things transportation. Sign up here — just click The Station — to receive it every Sunday in your inbox.\n",
       "Hello friends and readers. Welcome to The Station, your central hub for all past, present and future means of moving people and packages from Point A to Point B.\n",
       "\t\n",
       "\t\n",
       "\t\t\n",
       "\t\t\t\n",
       "\n",
       "\n",
       "Hey so maybe y’all missed it, but we shared some exciting news this week.\n",
       "Transportation Secretary Pete Buttigieg will join us for a fireside chat at Disrupt 2021, wher…</td><td>2021-07-26</td><td>[&quot;Ford&quot;, &quot;Caterpillar&quot;]</td></tr><tr><td>&quot;The Station: Spin heads to Europe, Just Eat Takeaway gobbles up Grubhub and a drive in a Bentley Flying Spur&quot;</td><td>&quot;https://techcrunch.com/2020/06/14/the-station-spin-heads-to-europe-just-eat-takeaway-gobbles-up-grubhub-and-a-drive-in-a-bentley-flying-spur/&quot;</td><td>&quot;The Station is a weekly newsletter dedicated to all things transportation. Sign up here — just click The Station — to receive it every Saturday in your inbox.\n",
       "Hi friends and first-time readers. Welcome back to The Station, a newsletter dedicated to all the present and future ways people and packages move from Point A to Point B. I’m your host Kirsten Korosec, senior transportation reporter at TechCrunch.\n",
       "\t\n",
       "\t\n",
       "\t\t\n",
       "\t\t\t\n",
       "\n",
       "\n",
       "COVID-19 hasn’t gone away, in case you were wondering. And yet, city, county an…</td><td>2020-06-14</td><td>[&quot;Ford&quot;, &quot;Caterpillar&quot;, &quot;Boeing&quot;]</td></tr><tr><td>&quot;Daily Crunch: Eats Chips and Leaves Edition&quot;</td><td>&quot;https://techcrunch.com/2008/03/25/daily-crunch-eats-chips-and-leaves-edition/&quot;</td><td>&quot;\n",
       "Going towards the light: Researchers look into replacing wire chip interfaces with optical\n",
       "Caterpillar eats message into leaf, heralded as green printer\n",
       "LIP Watches: The French is for quality\n",
       "It slices, it dices, it blasts through concrete\n",
       "All About Linux 2008: Aren’t UNIX and Linux the same thing? Yes and no.\n",
       "&quot;</td><td>2008-03-25</td><td>[&quot;Caterpillar&quot;]</td></tr></tbody></table></div>"
      ],
      "text/plain": [
       "shape: (839, 5)\n",
       "┌──────────────────────┬─────────────────────┬─────────────────────┬─────────────┬─────────────────┐\n",
       "│ Titre1               ┆ Lien_du_titre       ┆ texte1              ┆ Date de     ┆ Test            │\n",
       "│ ---                  ┆ ---                 ┆ ---                 ┆ publication ┆ ---             │\n",
       "│ str                  ┆ str                 ┆ str                 ┆ ---         ┆ list[str]       │\n",
       "│                      ┆                     ┆                     ┆ date        ┆                 │\n",
       "╞══════════════════════╪═════════════════════╪═════════════════════╪═════════════╪═════════════════╡\n",
       "│ Walmart debuts       ┆ https://techcrunch. ┆ In a keynote        ┆ 2024-01-09  ┆ [\"Walmart\"]     │\n",
       "│ generative AI search ┆ com/2024/01/09/walm ┆ address at the      ┆             ┆                 │\n",
       "│ and AI replenishment ┆ art-debuts-generati ┆ Consumer            ┆             ┆                 │\n",
       "│ features at CES      ┆ ve-ai-search-and-ai ┆ Electronics Show in ┆             ┆                 │\n",
       "│                      ┆ -replenishment-feat ┆ Las Vegas, Walmart  ┆             ┆                 │\n",
       "│                      ┆ ures-at-ces/        ┆ president and CEO   ┆             ┆                 │\n",
       "│                      ┆                     ┆ Doug McMillon and   ┆             ┆                 │\n",
       "│                      ┆                     ┆ other Walmart execs ┆             ┆                 │\n",
       "│                      ┆                     ┆ offered a glimpse   ┆             ┆                 │\n",
       "│                      ┆                     ┆ as to how the       ┆             ┆                 │\n",
       "│                      ┆                     ┆ retail giant was    ┆             ┆                 │\n",
       "│                      ┆                     ┆ putting new         ┆             ┆                 │\n",
       "│                      ┆                     ┆ technologies,       ┆             ┆                 │\n",
       "│                      ┆                     ┆ including augmented ┆             ┆                 │\n",
       "│                      ┆                     ┆ reality (AR),       ┆             ┆                 │\n",
       "│                      ┆                     ┆ drones, generative  ┆             ┆                 │\n",
       "│                      ┆                     ┆ AI and other        ┆             ┆                 │\n",
       "│                      ┆                     ┆ artificial          ┆             ┆                 │\n",
       "│                      ┆                     ┆ intelligence tech   ┆             ┆                 │\n",
       "│                      ┆                     ┆ to work in order    ┆             ┆                 │\n",
       "│                      ┆                     ┆ improve the         ┆             ┆                 │\n",
       "│                      ┆                     ┆ shopping experience ┆             ┆                 │\n",
       "│                      ┆                     ┆ for customers.      ┆             ┆                 │\n",
       "│                      ┆                     ┆ At the trade show,  ┆             ┆                 │\n",
       "│                      ┆                     ┆ the company         ┆             ┆                 │\n",
       "│                      ┆                     ┆ revealed a handful  ┆             ┆                 │\n",
       "│                      ┆                     ┆ of new products,    ┆             ┆                 │\n",
       "│                      ┆                     ┆ including two       ┆             ┆                 │\n",
       "│                      ┆                     ┆ AI-powered tools    ┆             ┆                 │\n",
       "│                      ┆                     ┆ for managing        ┆             ┆                 │\n",
       "│                      ┆                     ┆ product search and  ┆             ┆                 │\n",
       "│                      ┆                     ┆ repl…               ┆             ┆                 │\n",
       "│ Ibotta’s expansion   ┆ https://techcrunch. ┆ Ibotta confidently  ┆ 2024-03-28  ┆ [\"Walmart\",     │\n",
       "│ into enterprise      ┆ com/2024/03/28/ibot ┆ submitted an S-1    ┆             ┆ \"Kroger\"]       │\n",
       "│ should set it up for ┆ tas-expansion-into- ┆ filing with the SEC ┆             ┆                 │\n",
       "│ a successful IPO     ┆ enterprise-should-s ┆ on March 22 with    ┆             ┆                 │\n",
       "│                      ┆ et-it-up-for-a-succ ┆ the intent to list  ┆             ┆                 │\n",
       "│                      ┆ essful-ipo/         ┆ its shares on the   ┆             ┆                 │\n",
       "│                      ┆                     ┆ New York Stock      ┆             ┆                 │\n",
       "│                      ┆                     ┆ Exchange. The       ┆             ┆                 │\n",
       "│                      ┆                     ┆ 13-year-old         ┆             ┆                 │\n",
       "│                      ┆                     ┆ cash-back startup   ┆             ┆                 │\n",
       "│                      ┆                     ┆ looks to make its   ┆             ┆                 │\n",
       "│                      ┆                     ┆ public debut after  ┆             ┆                 │\n",
       "│                      ┆                     ┆ turning profitable  ┆             ┆                 │\n",
       "│                      ┆                     ┆ and recording       ┆             ┆                 │\n",
       "│                      ┆                     ┆ impressive revenue  ┆             ┆                 │\n",
       "│                      ┆                     ┆ growth in 2023.     ┆             ┆                 │\n",
       "│                      ┆                     ┆ The company         ┆             ┆                 │\n",
       "│                      ┆                     ┆ reported $320       ┆             ┆                 │\n",
       "│                      ┆                     ┆ million in revenue  ┆             ┆                 │\n",
       "│                      ┆                     ┆ in 2023, up 52%     ┆             ┆                 │\n",
       "│                      ┆                     ┆ from 2022 when it   ┆             ┆                 │\n",
       "│                      ┆                     ┆ produced $210       ┆             ┆                 │\n",
       "│                      ┆                     ┆ million in revenue. ┆             ┆                 │\n",
       "│                      ┆                     ┆ Ibotta’s gross      ┆             ┆                 │\n",
       "│                      ┆                     ┆ profits grew 68%    ┆             ┆                 │\n",
       "│                      ┆                     ┆ from 2022, $164.5   ┆             ┆                 │\n",
       "│                      ┆                     ┆ million, to 2023,   ┆             ┆                 │\n",
       "│                      ┆                     ┆ $276 million.       ┆             ┆                 │\n",
       "│                      ┆                     ┆ \t                    ┆             ┆                 │\n",
       "│                      ┆                     ┆ \t                    ┆             ┆                 │\n",
       "│                      ┆                     ┆ \t\t                    ┆             ┆                 │\n",
       "│                      ┆                     ┆ \t\t\t                    ┆             ┆                 │\n",
       "│                      ┆                     ┆                     ┆             ┆                 │\n",
       "│                      ┆                     ┆                     ┆             ┆                 │\n",
       "│                      ┆                     ┆ The Denver-based c… ┆             ┆                 │\n",
       "│ Walmart+ adds travel ┆ https://techcrunch. ┆ Walmart+, the U.S.  ┆ 2023-07-26  ┆ [\"Walmart\"]     │\n",
       "│ benefits to its list ┆ com/2023/07/26/walm ┆ retailer’s Prime    ┆             ┆                 │\n",
       "│ of perks             ┆ art-adds-travel-ben ┆ competitor, is      ┆             ┆                 │\n",
       "│                      ┆ efits-list-of-perks ┆ adding travel       ┆             ┆                 │\n",
       "│                      ┆ /                   ┆ benefits to its     ┆             ┆                 │\n",
       "│                      ┆                     ┆ list of perks. The  ┆             ┆                 │\n",
       "│                      ┆                     ┆ company has         ┆             ┆                 │\n",
       "│                      ┆                     ┆ announced that      ┆             ┆                 │\n",
       "│                      ┆                     ┆ members can book    ┆             ┆                 │\n",
       "│                      ┆                     ┆ getaways through Wa ┆             ┆                 │\n",
       "│                      ┆                     ┆ lmartPlusTravel.com ┆             ┆                 │\n",
       "│                      ┆                     ┆ and get Walmart     ┆             ┆                 │\n",
       "│                      ┆                     ┆ Cash. Walmart+      ┆             ┆                 │\n",
       "│                      ┆                     ┆ members will        ┆             ┆                 │\n",
       "│                      ┆                     ┆ receive 5% Walmart  ┆             ┆                 │\n",
       "│                      ┆                     ┆ Cash on hotels,     ┆             ┆                 │\n",
       "│                      ┆                     ┆ vacation rentals,   ┆             ┆                 │\n",
       "│                      ┆                     ┆ car rentals and     ┆             ┆                 │\n",
       "│                      ┆                     ┆ activities          ┆             ┆                 │\n",
       "│                      ┆                     ┆ bookings, 2%        ┆             ┆                 │\n",
       "│                      ┆                     ┆ Walmart Cash on all ┆             ┆                 │\n",
       "│                      ┆                     ┆ flights and a       ┆             ┆                 │\n",
       "│                      ┆                     ┆ blended rate of     ┆             ┆                 │\n",
       "│                      ┆                     ┆ Walmart Cash on     ┆             ┆                 │\n",
       "│                      ┆                     ┆ vacation packages.  ┆             ┆                 │\n",
       "│                      ┆                     ┆ Travel booking is   ┆             ┆                 │\n",
       "│                      ┆                     ┆ powered by Expedia  ┆             ┆                 │\n",
       "│                      ┆                     ┆ Group’s White Label ┆             ┆                 │\n",
       "│                      ┆                     ┆ Template            ┆             ┆                 │\n",
       "│                      ┆                     ┆ technology, giving  ┆             ┆                 │\n",
       "│                      ┆                     ┆ members a…          ┆             ┆                 │\n",
       "│ Walmart returns to   ┆ https://techcrunch. ┆ Walmart is          ┆ 2023-09-27  ┆ [\"Walmart\"]     │\n",
       "│ Roblox after its     ┆ com/2023/09/27/walm ┆ returning to        ┆             ┆                 │\n",
       "│ first games were     ┆ art-returns-to-robl ┆ Roblox, but this    ┆             ┆                 │\n",
       "│ attacked by consumer ┆ ox-after-its-first- ┆ time with a virtual ┆             ┆                 │\n",
       "│ advocacy groups      ┆ games-were-attacked ┆ world where gamers  ┆             ┆                 │\n",
       "│                      ┆ -by-consumer-advoca ┆ can discover new    ┆             ┆                 │\n",
       "│                      ┆ cy-groups/          ┆ virtual items and   ┆             ┆                 │\n",
       "│                      ┆                     ┆ accessories to      ┆             ┆                 │\n",
       "│                      ┆                     ┆ personalize their   ┆             ┆                 │\n",
       "│                      ┆                     ┆ experience, not     ┆             ┆                 │\n",
       "│                      ┆                     ┆ browse or shop      ┆             ┆                 │\n",
       "│                      ┆                     ┆ items from Walmart  ┆             ┆                 │\n",
       "│                      ┆                     ┆ itself. The         ┆             ┆                 │\n",
       "│                      ┆                     ┆ retailer a year ago ┆             ┆                 │\n",
       "│                      ┆                     ┆ had launched two    ┆             ┆                 │\n",
       "│                      ┆                     ┆ Walmart-branded     ┆             ┆                 │\n",
       "│                      ┆                     ┆ experiences on the  ┆             ┆                 │\n",
       "│                      ┆                     ┆ gaming platform,    ┆             ┆                 │\n",
       "│                      ┆                     ┆ but came under fire ┆             ┆                 │\n",
       "│                      ┆                     ┆ from consumer       ┆             ┆                 │\n",
       "│                      ┆                     ┆ advocacy groups who ┆             ┆                 │\n",
       "│                      ┆                     ┆ wanted the games    ┆             ┆                 │\n",
       "│                      ┆                     ┆ audited for stealth ┆             ┆                 │\n",
       "│                      ┆                     ┆ marketing to kids.  ┆             ┆                 │\n",
       "│                      ┆                     ┆ Those two virtual   ┆             ┆                 │\n",
       "│                      ┆                     ┆ worlds, “Walmart    ┆             ┆                 │\n",
       "│                      ┆                     ┆ Land” and “Universe ┆             ┆                 │\n",
       "│                      ┆                     ┆ of Play,” let       ┆             ┆                 │\n",
       "│                      ┆                     ┆ Roblox players      ┆             ┆                 │\n",
       "│                      ┆                     ┆ collect…            ┆             ┆                 │\n",
       "│ Walmart+ Assist      ┆ https://techcrunch. ┆ Walmart+, the U.S.  ┆ 2023-07-20  ┆ [\"Walmart\"]     │\n",
       "│ halves the price of  ┆ com/2023/07/20/walm ┆ retailer’s Prime    ┆             ┆                 │\n",
       "│ its Prime competitor ┆ art-assist-halves-t ┆ competitor, is      ┆             ┆                 │\n",
       "│ for those on         ┆ he-price-of-its-pri ┆ introducing a new   ┆             ┆                 │\n",
       "│ government           ┆ me-competitor-for-t ┆ program designed to ┆             ┆                 │\n",
       "│ assistance           ┆ hose-on-government- ┆ help those on       ┆             ┆                 │\n",
       "│                      ┆ assistance/         ┆ government          ┆             ┆                 │\n",
       "│                      ┆                     ┆ assistance take     ┆             ┆                 │\n",
       "│                      ┆                     ┆ advantage of its    ┆             ┆                 │\n",
       "│                      ┆                     ┆ membership          ┆             ┆                 │\n",
       "│                      ┆                     ┆ benefits, like free ┆             ┆                 │\n",
       "│                      ┆                     ┆ shipping and        ┆             ┆                 │\n",
       "│                      ┆                     ┆ delivery, gas       ┆             ┆                 │\n",
       "│                      ┆                     ┆ discounts and       ┆             ┆                 │\n",
       "│                      ┆                     ┆ access to streaming ┆             ┆                 │\n",
       "│                      ┆                     ┆ service Paramount+. ┆             ┆                 │\n",
       "│                      ┆                     ┆ The company         ┆             ┆                 │\n",
       "│                      ┆                     ┆ announced this      ┆             ┆                 │\n",
       "│                      ┆                     ┆ morning the launch  ┆             ┆                 │\n",
       "│                      ┆                     ┆ of Walmart+ Assist, ┆             ┆                 │\n",
       "│                      ┆                     ┆ a way to purchase a ┆             ┆                 │\n",
       "│                      ┆                     ┆ Walmart+ membership ┆             ┆                 │\n",
       "│                      ┆                     ┆ at 50% off ($49 per ┆             ┆                 │\n",
       "│                      ┆                     ┆ year, or $6.47 per  ┆             ┆                 │\n",
       "│                      ┆                     ┆ month) for those on ┆             ┆                 │\n",
       "│                      ┆                     ┆ government          ┆             ┆                 │\n",
       "│                      ┆                     ┆ assistance.         ┆             ┆                 │\n",
       "│                      ┆                     ┆ Typically, a        ┆             ┆                 │\n",
       "│                      ┆                     ┆ Walmart+ membership ┆             ┆                 │\n",
       "│                      ┆                     ┆ costs $98 per year  ┆             ┆                 │\n",
       "│                      ┆                     ┆ o…                  ┆             ┆                 │\n",
       "│ …                    ┆ …                   ┆ …                   ┆ …           ┆ …               │\n",
       "│ The Station: EV      ┆ https://techcrunch. ┆ Welcome back to The ┆ 2022-05-30  ┆ [\"Caterpillar\", │\n",
       "│ SPACs face new       ┆ com/2022/05/30/the- ┆ Station, your       ┆             ┆ \"Walmart\"]      │\n",
       "│ regulatory speed     ┆ station-ev-spacs-fa ┆ weekly guide to     ┆             ┆                 │\n",
       "│ bump, more on        ┆ ce-new-regulatory-s ┆ everything going on ┆             ┆                 │\n",
       "│ Rivian’s reorg and   ┆ peed-bump-more-on-r ┆ in the world of     ┆             ┆                 │\n",
       "│ VW weighs direct     ┆ ivians-reorg-and-vw ┆ transportation.     ┆             ┆                 │\n",
       "│ sales for Scout      ┆ -weighs-direct-sale ┆ Many readers of     ┆             ┆                 │\n",
       "│ brand                ┆ s-for-scout-brand/  ┆ this weekly         ┆             ┆                 │\n",
       "│                      ┆                     ┆ newsletter are      ┆             ┆                 │\n",
       "│                      ┆                     ┆ likely enjoying a   ┆             ┆                 │\n",
       "│                      ┆                     ┆ three-day weekend   ┆             ┆                 │\n",
       "│                      ┆                     ┆ thanks to the       ┆             ┆                 │\n",
       "│                      ┆                     ┆ Memorial Day        ┆             ┆                 │\n",
       "│                      ┆                     ┆ holiday. So, this   ┆             ┆                 │\n",
       "│                      ┆                     ┆ week I will keep it ┆             ┆                 │\n",
       "│                      ┆                     ┆ a wee bit shorter.  ┆             ┆                 │\n",
       "│                      ┆                     ┆ \t                    ┆             ┆                 │\n",
       "│                      ┆                     ┆ \t                    ┆             ┆                 │\n",
       "│                      ┆                     ┆ \t\t                    ┆             ┆                 │\n",
       "│                      ┆                     ┆ \t\t\t                    ┆             ┆                 │\n",
       "│                      ┆                     ┆                     ┆             ┆                 │\n",
       "│                      ┆                     ┆                     ┆             ┆                 │\n",
       "│                      ┆                     ┆ Before we get       ┆             ┆                 │\n",
       "│                      ┆                     ┆ started, check out  ┆             ┆                 │\n",
       "│                      ┆                     ┆ the latest          ┆             ┆                 │\n",
       "│                      ┆                     ┆ transportation Q&A, ┆             ┆                 │\n",
       "│                      ┆                     ┆ this time with      ┆             ┆                 │\n",
       "│                      ┆                     ┆ Convoy co-founder   ┆             ┆                 │\n",
       "│                      ┆                     ┆ and CEO Dan Lewis.  ┆             ┆                 │\n",
       "│                      ┆                     ┆ He predicts digital ┆             ┆                 │\n",
       "│                      ┆                     ┆ freight will go     ┆             ┆                 │\n",
       "│                      ┆                     ┆ mainstream within   ┆             ┆                 │\n",
       "│                      ┆                     ┆ the year. Why?      ┆             ┆                 │\n",
       "│                      ┆                     ┆ Lewis said: “The    ┆             ┆                 │\n",
       "│                      ┆                     ┆ industry is going   ┆             ┆                 │\n",
       "│                      ┆                     ┆ to…                 ┆             ┆                 │\n",
       "│ ClearFlame Engine    ┆ https://techcrunch. ┆ Diesel engines are  ┆ 2020-09-17  ┆ [\"Caterpillar\"] │\n",
       "│ Technologies takes   ┆ com/2020/09/17/clea ┆ the workhorses of   ┆             ┆                 │\n",
       "│ aim at cleaning up   ┆ rflame-engine-techn ┆ freight             ┆             ┆                 │\n",
       "│ diesel engines       ┆ ologies-takes-aim-a ┆ transportation and  ┆             ┆                 │\n",
       "│                      ┆ t-cleaning-up-diese ┆ agriculture — and   ┆             ┆                 │\n",
       "│                      ┆ l-engines/          ┆ by extension keep   ┆             ┆                 │\n",
       "│                      ┆                     ┆ the economy fed and ┆             ┆                 │\n",
       "│                      ┆                     ┆ well supplied. They ┆             ┆                 │\n",
       "│                      ┆                     ┆ also have a dirty   ┆             ┆                 │\n",
       "│                      ┆                     ┆ side.               ┆             ┆                 │\n",
       "│                      ┆                     ┆ The founders of     ┆             ┆                 │\n",
       "│                      ┆                     ┆ ClearFlame Engine   ┆             ┆                 │\n",
       "│                      ┆                     ┆ Technologies, a     ┆             ┆                 │\n",
       "│                      ┆                     ┆ four-year-old       ┆             ┆                 │\n",
       "│                      ┆                     ┆ startup based in    ┆             ┆                 │\n",
       "│                      ┆                     ┆ Geneva, Illinois,   ┆             ┆                 │\n",
       "│                      ┆                     ┆ say they have found ┆             ┆                 │\n",
       "│                      ┆                     ┆ a way to clean them ┆             ┆                 │\n",
       "│                      ┆                     ┆ up.                 ┆             ┆                 │\n",
       "│                      ┆                     ┆ \t                    ┆             ┆                 │\n",
       "│                      ┆                     ┆ \t                    ┆             ┆                 │\n",
       "│                      ┆                     ┆ \t\t                    ┆             ┆                 │\n",
       "│                      ┆                     ┆ \t\t\t                    ┆             ┆                 │\n",
       "│                      ┆                     ┆                     ┆             ┆                 │\n",
       "│                      ┆                     ┆                     ┆             ┆                 │\n",
       "│                      ┆                     ┆ The company, which  ┆             ┆                 │\n",
       "│                      ┆                     ┆ participated in     ┆             ┆                 │\n",
       "│                      ┆                     ┆ TechCrunch          ┆             ┆                 │\n",
       "│                      ┆                     ┆ Disrupt’s 2020      ┆             ┆                 │\n",
       "│                      ┆                     ┆ Startup Battlefield ┆             ┆                 │\n",
       "│                      ┆                     ┆ competition, has    ┆             ┆                 │\n",
       "│                      ┆                     ┆ developed a novel   ┆             ┆                 │\n",
       "│                      ┆                     ┆ way to get diesel   ┆             ┆                 │\n",
       "│                      ┆                     ┆ style engines to    ┆             ┆                 │\n",
       "│                      ┆                     ┆ operate on          ┆             ┆                 │\n",
       "│                      ┆                     ┆ renewable fuels li… ┆             ┆                 │\n",
       "│ The Station: Rivian  ┆ https://techcrunch. ┆ The Station is a    ┆ 2021-07-26  ┆ [\"Ford\",        │\n",
       "│ adds to its EV war   ┆ com/2021/07/26/the- ┆ weekly newsletter   ┆             ┆ \"Caterpillar\"]  │\n",
       "│ chest, Sec.          ┆ statin-rivian-adds- ┆ dedicated to all    ┆             ┆                 │\n",
       "│ Buttigieg is coming  ┆ to-its-ev-war-chest ┆ things transportati ┆             ┆                 │\n",
       "│ to Disrupt, Argo     ┆ -sec-buttigieg-is-c ┆ on. Sign up here —  ┆             ┆                 │\n",
       "│ preps to launch with ┆ oming-to-disrupt-an ┆ just click The      ┆             ┆                 │\n",
       "│ Lyft                 ┆ d-argo-preps-to-lau ┆ Station — to        ┆             ┆                 │\n",
       "│                      ┆ nch-with-lyft/      ┆ receive it every    ┆             ┆                 │\n",
       "│                      ┆                     ┆ Sunday in your      ┆             ┆                 │\n",
       "│                      ┆                     ┆ inbox.              ┆             ┆                 │\n",
       "│                      ┆                     ┆ Hello friends and   ┆             ┆                 │\n",
       "│                      ┆                     ┆ readers. Welcome to ┆             ┆                 │\n",
       "│                      ┆                     ┆ The Station, your   ┆             ┆                 │\n",
       "│                      ┆                     ┆ central hub for all ┆             ┆                 │\n",
       "│                      ┆                     ┆ past, present and   ┆             ┆                 │\n",
       "│                      ┆                     ┆ future means of     ┆             ┆                 │\n",
       "│                      ┆                     ┆ moving people and   ┆             ┆                 │\n",
       "│                      ┆                     ┆ packages from Point ┆             ┆                 │\n",
       "│                      ┆                     ┆ A to Point B.       ┆             ┆                 │\n",
       "│                      ┆                     ┆ \t                    ┆             ┆                 │\n",
       "│                      ┆                     ┆ \t                    ┆             ┆                 │\n",
       "│                      ┆                     ┆ \t\t                    ┆             ┆                 │\n",
       "│                      ┆                     ┆ \t\t\t                    ┆             ┆                 │\n",
       "│                      ┆                     ┆                     ┆             ┆                 │\n",
       "│                      ┆                     ┆                     ┆             ┆                 │\n",
       "│                      ┆                     ┆ Hey so maybe y’all  ┆             ┆                 │\n",
       "│                      ┆                     ┆ missed it, but we   ┆             ┆                 │\n",
       "│                      ┆                     ┆ shared some         ┆             ┆                 │\n",
       "│                      ┆                     ┆ exciting news this  ┆             ┆                 │\n",
       "│                      ┆                     ┆ week.               ┆             ┆                 │\n",
       "│                      ┆                     ┆ Transportation      ┆             ┆                 │\n",
       "│                      ┆                     ┆ Secretary Pete      ┆             ┆                 │\n",
       "│                      ┆                     ┆ Buttigieg will join ┆             ┆                 │\n",
       "│                      ┆                     ┆ us for a fireside   ┆             ┆                 │\n",
       "│                      ┆                     ┆ chat at Disrupt     ┆             ┆                 │\n",
       "│                      ┆                     ┆ 2021, wher…         ┆             ┆                 │\n",
       "│ The Station: Spin    ┆ https://techcrunch. ┆ The Station is a    ┆ 2020-06-14  ┆ [\"Ford\",        │\n",
       "│ heads to Europe,     ┆ com/2020/06/14/the- ┆ weekly newsletter   ┆             ┆ \"Caterpillar\",  │\n",
       "│ Just Eat Takeaway    ┆ station-spin-heads- ┆ dedicated to all    ┆             ┆ \"Boeing\"]       │\n",
       "│ gobbles up Grubhub   ┆ to-europe-just-eat- ┆ things transportati ┆             ┆                 │\n",
       "│ and a drive in a     ┆ takeaway-gobbles-up ┆ on. Sign up here —  ┆             ┆                 │\n",
       "│ Bentley Flying Spur  ┆ -grubhub-and-a-driv ┆ just click The      ┆             ┆                 │\n",
       "│                      ┆ e-in-a-bentley-flyi ┆ Station — to        ┆             ┆                 │\n",
       "│                      ┆ ng-spur/            ┆ receive it every    ┆             ┆                 │\n",
       "│                      ┆                     ┆ Saturday in your    ┆             ┆                 │\n",
       "│                      ┆                     ┆ inbox.              ┆             ┆                 │\n",
       "│                      ┆                     ┆ Hi friends and      ┆             ┆                 │\n",
       "│                      ┆                     ┆ first-time readers. ┆             ┆                 │\n",
       "│                      ┆                     ┆ Welcome back to The ┆             ┆                 │\n",
       "│                      ┆                     ┆ Station, a          ┆             ┆                 │\n",
       "│                      ┆                     ┆ newsletter          ┆             ┆                 │\n",
       "│                      ┆                     ┆ dedicated to all    ┆             ┆                 │\n",
       "│                      ┆                     ┆ the present and     ┆             ┆                 │\n",
       "│                      ┆                     ┆ future ways people  ┆             ┆                 │\n",
       "│                      ┆                     ┆ and packages move   ┆             ┆                 │\n",
       "│                      ┆                     ┆ from Point A to     ┆             ┆                 │\n",
       "│                      ┆                     ┆ Point B. I’m your   ┆             ┆                 │\n",
       "│                      ┆                     ┆ host Kirsten        ┆             ┆                 │\n",
       "│                      ┆                     ┆ Korosec, senior     ┆             ┆                 │\n",
       "│                      ┆                     ┆ transportation      ┆             ┆                 │\n",
       "│                      ┆                     ┆ reporter at         ┆             ┆                 │\n",
       "│                      ┆                     ┆ TechCrunch.         ┆             ┆                 │\n",
       "│                      ┆                     ┆ \t                    ┆             ┆                 │\n",
       "│                      ┆                     ┆ \t                    ┆             ┆                 │\n",
       "│                      ┆                     ┆ \t\t                    ┆             ┆                 │\n",
       "│                      ┆                     ┆ \t\t\t                    ┆             ┆                 │\n",
       "│                      ┆                     ┆                     ┆             ┆                 │\n",
       "│                      ┆                     ┆                     ┆             ┆                 │\n",
       "│                      ┆                     ┆ COVID-19 hasn’t     ┆             ┆                 │\n",
       "│                      ┆                     ┆ gone away, in case  ┆             ┆                 │\n",
       "│                      ┆                     ┆ you were wondering. ┆             ┆                 │\n",
       "│                      ┆                     ┆ And yet, city,      ┆             ┆                 │\n",
       "│                      ┆                     ┆ county an…          ┆             ┆                 │\n",
       "│ Daily Crunch: Eats   ┆ https://techcrunch. ┆                     ┆ 2008-03-25  ┆ [\"Caterpillar\"] │\n",
       "│ Chips and Leaves     ┆ com/2008/03/25/dail ┆ Going towards the   ┆             ┆                 │\n",
       "│ Edition              ┆ y-crunch-eats-chips ┆ light: Researchers  ┆             ┆                 │\n",
       "│                      ┆ -and-leaves-edition ┆ look into replacing ┆             ┆                 │\n",
       "│                      ┆ /                   ┆ wire chip           ┆             ┆                 │\n",
       "│                      ┆                     ┆ interfaces with     ┆             ┆                 │\n",
       "│                      ┆                     ┆ optical             ┆             ┆                 │\n",
       "│                      ┆                     ┆ Caterpillar eats    ┆             ┆                 │\n",
       "│                      ┆                     ┆ message into leaf,  ┆             ┆                 │\n",
       "│                      ┆                     ┆ heralded as green   ┆             ┆                 │\n",
       "│                      ┆                     ┆ printer             ┆             ┆                 │\n",
       "│                      ┆                     ┆ LIP Watches: The    ┆             ┆                 │\n",
       "│                      ┆                     ┆ French is for       ┆             ┆                 │\n",
       "│                      ┆                     ┆ quality             ┆             ┆                 │\n",
       "│                      ┆                     ┆ It slices, it       ┆             ┆                 │\n",
       "│                      ┆                     ┆ dices, it blasts    ┆             ┆                 │\n",
       "│                      ┆                     ┆ through concrete    ┆             ┆                 │\n",
       "│                      ┆                     ┆ All About Linux     ┆             ┆                 │\n",
       "│                      ┆                     ┆ 2008: Aren’t UNIX   ┆             ┆                 │\n",
       "│                      ┆                     ┆ and Linux the same  ┆             ┆                 │\n",
       "│                      ┆                     ┆ thing? Yes and no.  ┆             ┆                 │\n",
       "│                      ┆                     ┆                     ┆             ┆                 │\n",
       "└──────────────────────┴─────────────────────┴─────────────────────┴─────────────┴─────────────────┘"
      ]
     },
     "execution_count": 94,
     "metadata": {},
     "output_type": "execute_result"
    }
   ],
   "source": [
    "df_news"
   ]
  }
 ],
 "metadata": {
  "kernelspec": {
   "display_name": "consulting_brain",
   "language": "python",
   "name": "python3"
  },
  "language_info": {
   "codemirror_mode": {
    "name": "ipython",
    "version": 3
   },
   "file_extension": ".py",
   "mimetype": "text/x-python",
   "name": "python",
   "nbconvert_exporter": "python",
   "pygments_lexer": "ipython3",
   "version": "3.10.12"
  }
 },
 "nbformat": 4,
 "nbformat_minor": 2
}
